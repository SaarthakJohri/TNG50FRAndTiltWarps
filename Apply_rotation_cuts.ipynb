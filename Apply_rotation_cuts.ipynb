{
 "cells": [
  {
   "cell_type": "code",
   "execution_count": 1,
   "metadata": {
    "tags": []
   },
   "outputs": [],
   "source": [
    "import sys\n",
    "sys.path.append('/home/tnguser/python/')\n",
    "sys.path.append('/home/tnguser/python/BFE_analysis/')\n",
    "sys.path.append('/home/tnguser/python/Principal_axes_analysis/')\n",
    "\n",
    "import numpy as np\n",
    "import h5py\n",
    "import os\n",
    "from FigureRotation_util import *\n",
    "from Cannon_get_principal_axes import *\n",
    "from prob_plane_method import *\n",
    "\n",
    "from astropy import constants as const\n",
    "from astropy import units as u\n",
    "from astropy.cosmology import Planck15 as cosmo\n",
    "from tqdm import tqdm\n",
    "from os.path import exists "
   ]
  },
  {
   "cell_type": "code",
   "execution_count": 3,
   "metadata": {
    "tags": []
   },
   "outputs": [],
   "source": [
    "sim = 'L35n2160TNG'\n",
    "basePath = '/home/tnguser/sims.TNG/' + sim + '/output'\n",
    "final_diskyIDs = np.load('/home/tnguser/postprocessing/circularity_study/real_final_diskyIDs.npy')\n",
    "final_GrNr = []\n",
    "for subfindID in final_diskyIDs:\n",
    "    GrNr = il.groupcat.loadSingle(basePath, 99, subhaloID=subfindID)['SubhaloGrNr']\n",
    "    final_GrNr.append(il.groupcat.loadSingle(basePath, 99, subhaloID=subfindID)['SubhaloGrNr'])"
   ]
  },
  {
   "cell_type": "code",
   "execution_count": 4,
   "metadata": {
    "tags": []
   },
   "outputs": [],
   "source": [
    "sim = 'L35n2160TNG'\n",
    "innerVirialLim=0.0\n",
    "outerVirialLim=0.6\n",
    "\n",
    "#### Replace w/ new selected GrNrs ######################################\n",
    "saarthak_catalogue = np.array(final_GrNr)\n",
    "#########################################################################\n",
    "\n",
    "\n",
    "#### Set up the paths, load error coefficients ####\n",
    "\n",
    "startSnap = 75\n",
    "\n",
    "saveDir = \"/home/tnguser/postprocessing/pattern_speeds/\"+sim+\"/%02d_%02dRvir/\"%(innerVirialLim*10,outerVirialLim*10)\n",
    "loadDir = \"/home/tnguser/postprocessing/principal_axes/\"+sim+\"/%02d_%02dRvir/\"%(innerVirialLim*10,outerVirialLim*10)\n",
    "frameDir = \"/home/tnguser/postprocessing/principal_axes/\"+sim+\"/%02d_%02dRvir/\"%(innerVirialLim*10,outerVirialLim*10)\n",
    "basePath = '/home/tnguser/sims.TNG/'+sim+'/output'\n",
    "\n",
    "errFitConsts = np.load(\"/home/tnguser/postprocessing/\"+\\\n",
    "                               \"empirical_error_fits_full.npy\",allow_pickle=True)"
   ]
  },
  {
   "cell_type": "code",
   "execution_count": 5,
   "metadata": {
    "tags": []
   },
   "outputs": [],
   "source": [
    "snapArr,zArr = snapshot_redshift_corr(basePath)\n",
    "\n",
    "t_arr = [0]\n",
    "for snap in range(75,99):\n",
    "    z0 = zArr[snap==snapArr]\n",
    "    z1 = zArr[snap+1==snapArr]\n",
    "    t_arr.append((cosmo.lookback_time(z0).value - cosmo.lookback_time(z1).value)[0])\n",
    "t_arr = np.array(t_arr)\n",
    "\n",
    "f_Nyq = 90/ np.mean(t_arr[1:]) # deg per Gyr\n",
    "f_Nyq_rad = (f_Nyq*u.deg/u.Gyr).to(u.rad*u.km/u.s/u.kpc)\n",
    "\n",
    "cum_t_arr = np.cumsum(t_arr)"
   ]
  },
  {
   "cell_type": "code",
   "execution_count": 6,
   "metadata": {
    "tags": []
   },
   "outputs": [
    {
     "data": {
      "text/plain": [
       "40"
      ]
     },
     "execution_count": 6,
     "metadata": {},
     "output_type": "execute_result"
    }
   ],
   "source": [
    "len(saarthak_catalogue)"
   ]
  },
  {
   "cell_type": "code",
   "execution_count": 7,
   "metadata": {
    "tags": []
   },
   "outputs": [
    {
     "name": "stderr",
     "output_type": "stream",
     "text": [
      "100%|██████████| 40/40 [00:00<00:00, 347.37it/s]\n"
     ]
    },
    {
     "data": {
      "text/plain": [
       "17"
      ]
     },
     "execution_count": 7,
     "metadata": {},
     "output_type": "execute_result"
    }
   ],
   "source": [
    "r0 = np.array([1,1,1])/np.sqrt(3)\n",
    "no_products = 0\n",
    "good_rotation_dict = {}\n",
    "count_good = 0\n",
    "good_catalogue = []\n",
    "for GrNr in tqdm(saarthak_catalogue):\n",
    "    omega_file = saveDir + \"GrNr_%d_snap_%d_99_patternSpeeds.npy\"%(GrNr,startSnap)\n",
    "    if exists(omega_file):\n",
    "        Omega = np.load(saveDir+\"GrNr_%d_snap_%d_99_patternSpeeds.npy\"%(GrNr,startSnap),allow_pickle=True).item()\n",
    "\n",
    "    ##########################################################################################################\n",
    "        # Measure the analytic error\n",
    "        axisRatios = np.load(loadDir+\"GrNr_%d_snap_%d_99_axisRatios_full.npy\"%(GrNr,startSnap),allow_pickle=True)\n",
    "        Npart = np.load(loadDir+\"GrNr_%d_snap_%d_99_Npart.npy\"%(GrNr,startSnap))\n",
    "\n",
    "        p_e = (1-2*axisRatios[:,0] + axisRatios[:,1])/(1-axisRatios[:,1])\n",
    "\n",
    "        analytic_err = analytic_error([p_e,Npart],*errFitConsts)\n",
    "\n",
    "        ##########################################################################################################\n",
    "        # put a cut on plane chi2\n",
    "        plane_chi2 = np.array(Omega['plane_chi2'][0])\n",
    "        plane_chi2_cut = np.array(plane_chi2) <= 10\n",
    "\n",
    "        ##########################################################################################################\n",
    "        # put a cut on chi2\n",
    "        chi2 = Omega['chi2']\n",
    "        chi2_cut = np.array(chi2) <= 20\n",
    "\n",
    "        ##########################################################################################################\n",
    "        # put a cut on lower detection limit\n",
    "        # measure the rotation durations\n",
    "        durations = Omega['startStop']\n",
    "\n",
    "        rotation_axes = np.array(Omega['Raxis'])\n",
    "        O = np.array(Omega['Omega'])\n",
    "\n",
    "        t = np.array([cum_t_arr[interval[1]]-cum_t_arr[interval[0]] for interval in durations])\n",
    "        undefDuration = np.array([False if 0 in interval else True for interval in durations])\n",
    "\n",
    "        # change in p/e over rotation duration\n",
    "        delta_p_e = np.array([p_e[interval[1]]-p_e[interval[0]] for interval in durations])\n",
    "        avg_p_e   = np.array([np.mean(p_e[interval[0]:interval[1]]) for interval in durations])\n",
    "\n",
    "        # measure the uncertainty on a vector in the plane of rotation, for each \n",
    "        max_ang_err = []\n",
    "        for epoch_i in range(len(rotation_axes)):\n",
    "            vec_in_plane = np.cross(r0,rotation_axes[epoch_i])\n",
    "            vec_in_plane = vec_in_plane/np.sqrt(np.sum(vec_in_plane**2))\n",
    "\n",
    "            max_ang_err.append(np.max(abs(analytic_err[durations[epoch_i][0]:durations[epoch_i][1]].dot(vec_in_plane))))\n",
    "\n",
    "        f_lower_bound = np.array(max_ang_err)*180/np.pi / t # in deg / Gyr\n",
    "        #print(f_lower_bound * np.pi/180)\n",
    "\n",
    "        lower_bound_cut = np.abs(O) > f_lower_bound # [True for sampleNum in range(len(chi2_cut))] #\n",
    "\n",
    "        ##########################################################################################################\n",
    "        # put a cut on duration, must be at least 4 snapshots\n",
    "        duration_nSnaps = np.array([Omega['startStop'][i][1]-Omega['startStop'][i][0] for i in range(len(Omega['startStop']))])\n",
    "        duration_time = np.array([cum_t_arr[Omega['startStop'][i][1]]-\\\n",
    "                                  cum_t_arr[Omega['startStop'][i][0]] for i in range(len(Omega['startStop']))])\n",
    "        durations_less_4 = ~(duration_nSnaps<3)\n",
    "\n",
    "        ##########################################################################################################\n",
    "        # apply each cut, append any results that are still good detections\n",
    "\n",
    "        cut_full = plane_chi2_cut & chi2_cut & lower_bound_cut & durations_less_4\n",
    "\n",
    "        if any(cut_full):\n",
    "            count_good += 1\n",
    "            good_catalogue.append(GrNr)\n",
    "\n",
    "        good_rotation_dict[GrNr] = {'Omega':np.array(Omega['Omega'])[cut_full],\n",
    "                                    'startStop':np.array(Omega['startStop'])[cut_full],\n",
    "                                    'Raxis':np.array(Omega['Raxis'])[cut_full]}\n",
    "    else:\n",
    "        no_products += 1\n",
    "np.save('Saarthak_catalogue_good_FR_selected.npy',good_rotation_dict,allow_pickle=True)\n",
    "count_good"
   ]
  },
  {
   "cell_type": "code",
   "execution_count": 8,
   "metadata": {
    "tags": []
   },
   "outputs": [
    {
     "data": {
      "text/plain": [
       "8"
      ]
     },
     "execution_count": 8,
     "metadata": {},
     "output_type": "execute_result"
    }
   ],
   "source": [
    "no_products"
   ]
  },
  {
   "cell_type": "code",
   "execution_count": 9,
   "metadata": {
    "tags": []
   },
   "outputs": [
    {
     "data": {
      "text/plain": [
       "{516: {'Omega': array([43.52399784, 29.94108567, -7.38514489]),\n",
       "  'startStop': array([[ 0,  6],\n",
       "         [ 8, 18],\n",
       "         [18, 22]]),\n",
       "  'Raxis': array([[-0.0291765 ,  0.04020516,  0.99876538],\n",
       "         [ 0.04711703,  0.07473954,  0.99608935],\n",
       "         [ 0.08210518,  0.02266469,  0.99636592]])},\n",
       " 601: {'Omega': array([], dtype=float64),\n",
       "  'startStop': array([], shape=(0, 2), dtype=int64),\n",
       "  'Raxis': array([], shape=(0, 3), dtype=float64)},\n",
       " 587: {'Omega': array([], dtype=float64),\n",
       "  'startStop': array([], shape=(0, 2), dtype=int64),\n",
       "  'Raxis': array([], shape=(0, 3), dtype=float64)},\n",
       " 772: {'Omega': array([19.21431948, -6.38598623, 14.67920299]),\n",
       "  'startStop': array([[ 0, 15],\n",
       "         [15, 20],\n",
       "         [20, 24]]),\n",
       "  'Raxis': array([[ 0.02722498,  0.03697612,  0.99894523],\n",
       "         [ 0.25869605,  0.34095664,  0.90378367],\n",
       "         [-0.09636924,  0.14106911,  0.98529817]])},\n",
       " 920: {'Omega': array([ 3.29551823, 10.53819242]),\n",
       "  'startStop': array([[ 0, 10],\n",
       "         [19, 22]]),\n",
       "  'Raxis': array([[ 0.78024655, -0.34863447,  0.51929695],\n",
       "         [-0.00875874,  0.7603431 , -0.64946259]])},\n",
       " 974: {'Omega': array([26.442325]),\n",
       "  'startStop': array([[19, 22]]),\n",
       "  'Raxis': array([[-0.04531965, -0.04156002,  0.99810766]])},\n",
       " 884: {'Omega': array([-29.06953548]),\n",
       "  'startStop': array([[0, 3]]),\n",
       "  'Raxis': array([[-0.1146949 , -0.01036196,  0.99334672]])},\n",
       " 879: {'Omega': array([], dtype=float64),\n",
       "  'startStop': array([], shape=(0, 2), dtype=int64),\n",
       "  'Raxis': array([], shape=(0, 3), dtype=float64)},\n",
       " 985: {'Omega': array([], dtype=float64),\n",
       "  'startStop': array([], shape=(0, 2), dtype=int64),\n",
       "  'Raxis': array([], shape=(0, 3), dtype=float64)},\n",
       " 931: {'Omega': array([-37.23056322,  -2.64637336]),\n",
       "  'startStop': array([[15, 19],\n",
       "         [19, 24]]),\n",
       "  'Raxis': array([[-0.05232503,  0.01606735,  0.99850084],\n",
       "         [-0.27495012, -0.08745952,  0.95747233]])},\n",
       " 1044: {'Omega': array([], dtype=float64),\n",
       "  'startStop': array([], shape=(0, 2), dtype=int64),\n",
       "  'Raxis': array([], shape=(0, 3), dtype=float64)},\n",
       " 982: {'Omega': array([16.42112776]),\n",
       "  'startStop': array([[13, 18]]),\n",
       "  'Raxis': array([[-0.09296527, -0.21046877,  0.97317026]])},\n",
       " 1026: {'Omega': array([-10.39863134,   9.0491767 ]),\n",
       "  'startStop': array([[0, 3],\n",
       "         [3, 9]]),\n",
       "  'Raxis': array([[ 0.32763005,  0.23667766,  0.91468149],\n",
       "         [ 0.70831854,  0.23791052, -0.66459268]])},\n",
       " 905: {'Omega': array([], dtype=float64),\n",
       "  'startStop': array([], shape=(0, 2), dtype=int64),\n",
       "  'Raxis': array([], shape=(0, 3), dtype=float64)},\n",
       " 1182: {'Omega': array([], dtype=float64),\n",
       "  'startStop': array([], shape=(0, 2), dtype=int64),\n",
       "  'Raxis': array([], shape=(0, 3), dtype=float64)},\n",
       " 1023: {'Omega': array([], dtype=float64),\n",
       "  'startStop': array([], shape=(0, 2), dtype=int64),\n",
       "  'Raxis': array([], shape=(0, 3), dtype=float64)},\n",
       " 1238: {'Omega': array([], dtype=float64),\n",
       "  'startStop': array([], shape=(0, 2), dtype=int64),\n",
       "  'Raxis': array([], shape=(0, 3), dtype=float64)},\n",
       " 816: {'Omega': array([], dtype=float64),\n",
       "  'startStop': array([], shape=(0, 2), dtype=int64),\n",
       "  'Raxis': array([], shape=(0, 3), dtype=float64)},\n",
       " 1292: {'Omega': array([], dtype=float64),\n",
       "  'startStop': array([], shape=(0, 2), dtype=int64),\n",
       "  'Raxis': array([], shape=(0, 3), dtype=float64)},\n",
       " 1400: {'Omega': array([], dtype=float64),\n",
       "  'startStop': array([], shape=(0, 2), dtype=int64),\n",
       "  'Raxis': array([], shape=(0, 3), dtype=float64)},\n",
       " 1346: {'Omega': array([-9.75078938]),\n",
       "  'startStop': array([[19, 24]]),\n",
       "  'Raxis': array([[0.92442075, 0.23667728, 0.29904872]])},\n",
       " 1464: {'Omega': array([], dtype=float64),\n",
       "  'startStop': array([], shape=(0, 2), dtype=int64),\n",
       "  'Raxis': array([], shape=(0, 3), dtype=float64)},\n",
       " 1628: {'Omega': array([-64.04879957]),\n",
       "  'startStop': array([[0, 3]]),\n",
       "  'Raxis': array([[-0.2073105 , -0.17328545,  0.96280554]])},\n",
       " 1771: {'Omega': array([  5.74835206, -33.49450533]),\n",
       "  'startStop': array([[ 0, 19],\n",
       "         [19, 24]]),\n",
       "  'Raxis': array([[ 0.09038552, -0.08104922,  0.99260339],\n",
       "         [-0.07888233,  0.04771491,  0.99574136]])},\n",
       " 1814: {'Omega': array([], dtype=float64),\n",
       "  'startStop': array([], shape=(0, 2), dtype=int64),\n",
       "  'Raxis': array([], shape=(0, 3), dtype=float64)},\n",
       " 1694: {'Omega': array([], dtype=float64),\n",
       "  'startStop': array([], shape=(0, 2), dtype=int64),\n",
       "  'Raxis': array([], shape=(0, 3), dtype=float64)},\n",
       " 1970: {'Omega': array([-9.53753452, -9.31999025]),\n",
       "  'startStop': array([[ 0, 10],\n",
       "         [10, 24]]),\n",
       "  'Raxis': array([[ 0.4067494 , -0.2563549 ,  0.87683356],\n",
       "         [ 0.08109828,  0.05478918,  0.99519908]])},\n",
       " 2410: {'Omega': array([4.9155576]),\n",
       "  'startStop': array([[ 4, 24]]),\n",
       "  'Raxis': array([[0.07520817, 0.35515569, 0.93177689]])},\n",
       " 2340: {'Omega': array([2.33755065]),\n",
       "  'startStop': array([[ 0, 20]]),\n",
       "  'Raxis': array([[0.18665988, 0.15613328, 0.96993839]])},\n",
       " 2555: {'Omega': array([36.68099493, -2.21661738]),\n",
       "  'startStop': array([[0, 3],\n",
       "         [3, 6]]),\n",
       "  'Raxis': array([[-0.28383256,  0.47858263,  0.83090176],\n",
       "         [ 0.96544585,  0.08778284, -0.24537418]])},\n",
       " 3104: {'Omega': array([-19.26222362, -29.64154563]),\n",
       "  'startStop': array([[0, 4],\n",
       "         [6, 9]]),\n",
       "  'Raxis': array([[-0.10770288,  0.42228925,  0.90003993],\n",
       "         [ 0.26203251,  0.41191017,  0.87273649]])},\n",
       " 3247: {'Omega': array([-15.80254179,  26.54328956,   6.04847582]),\n",
       "  'startStop': array([[ 0,  4],\n",
       "         [ 4, 10],\n",
       "         [10, 24]]),\n",
       "  'Raxis': array([[-0.12899727,  0.19417977,  0.97244739],\n",
       "         [ 0.98485071,  0.15160621, -0.08417032],\n",
       "         [ 0.7170757 ,  0.19807934,  0.6682567 ]])}}"
      ]
     },
     "execution_count": 9,
     "metadata": {},
     "output_type": "execute_result"
    }
   ],
   "source": [
    "good_rotation_dict"
   ]
  }
 ],
 "metadata": {
  "kernelspec": {
   "display_name": "Python 3 (ipykernel)",
   "language": "python",
   "name": "python3"
  },
  "language_info": {
   "codemirror_mode": {
    "name": "ipython",
    "version": 3
   },
   "file_extension": ".py",
   "mimetype": "text/x-python",
   "name": "python",
   "nbconvert_exporter": "python",
   "pygments_lexer": "ipython3",
   "version": "3.11.4"
  }
 },
 "nbformat": 4,
 "nbformat_minor": 4
}
