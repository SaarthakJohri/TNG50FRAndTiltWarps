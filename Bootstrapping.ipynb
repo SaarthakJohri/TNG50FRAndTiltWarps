{
 "cells": [
  {
   "cell_type": "markdown",
   "id": "04984791-45c1-4303-b085-6e52bbeb9569",
   "metadata": {},
   "source": [
    "# Bootstrapping"
   ]
  },
  {
   "cell_type": "markdown",
   "id": "11b070a0-4418-4153-b6fc-0df0c58dcded",
   "metadata": {},
   "source": [
    "Runs the process of measuring every single quantity used in other notebooks through a hundred bootstrap iterations, restricting sample of 90% each time to generate uncertainty estimates from the sample."
   ]
  },
  {
   "cell_type": "code",
   "execution_count": 1,
   "id": "c295564f-b2af-4ef6-b9b1-1f0d9f266f43",
   "metadata": {
    "tags": []
   },
   "outputs": [],
   "source": [
    "import illustris_python as il\n",
    "import numpy as np\n",
    "import h5py\n",
    "from os.path import exists \n",
    "from numpy.linalg import inv\n",
    "import seaborn as sns\n",
    "import pandas as pd\n",
    "from scipy.spatial.transform import Rotation as R\n",
    "from tqdm import tqdm\n",
    "from scipy.interpolate import CubicSpline\n",
    "\n",
    "import sys\n",
    "sys.path.append('/home/tnguser/python/')\n",
    "import numpy as np\n",
    "import h5py\n",
    "import os\n",
    "from FigureRotation_util import *\n",
    "from Cannon_get_principal_axes import *\n",
    "from prob_plane_method import *\n",
    "\n",
    "from astropy import constants as const\n",
    "from astropy import units as u\n",
    "from matplotlib import rcParams\n",
    "import warnings\n",
    "warnings.filterwarnings(\"ignore\")\n",
    "import agama\n",
    "\n",
    "%matplotlib inline\n",
    "rcParams['font.size'] = 18\n",
    "\n",
    "sim = 'L35n2160TNG'\n",
    "basePath = '/home/tnguser/sims.TNG/' + sim + '/output'\n",
    "\n",
    "# Halos in Neil Ash's catalog\n",
    "catalogue_path = '/home/tnguser/postprocessing/halocatalogues/' + sim + '.npy'\n",
    "naive_halos = np.load(catalogue_path)\n",
    "main_subhalos = np.load('/home/tnguser/postprocessing/halocatalogues/' + sim + '_mainSubhalos.npy') \n",
    "\n",
    "# CHANGE TO DESIRED FILE PATHS\n",
    "anglePath = '/home/tnguser/postprocessing/angles/' + sim + '/00_15Rvir/'\n",
    "spin_path = '/home/tnguser/postprocessing/angular_momentum/' + sim + '/inner_disk/'\n",
    "pattern_path =  '/home/tnguser/postprocessing/pattern_speeds/' + sim + '/00_06Rvir/'\n",
    "principal_path =  '/home/tnguser/postprocessing/principal_axes/' + sim + '/00_06Rvir/'\n",
    "spin_suffix = '/home/tnguser/postprocessing/angular_momentum/' + sim + '/rings_log/'\n",
    "mag_path = '/home/tnguser/postprocessing/warp_magnitudes/'\n",
    "\n",
    "snap = 99\n",
    "startSnap = 75"
   ]
  },
  {
   "cell_type": "code",
   "execution_count": 2,
   "id": "682eec44-7a55-41c9-afd1-b33fb2714a28",
   "metadata": {
    "tags": []
   },
   "outputs": [],
   "source": [
    "def getAngle(vec1, vec2):\n",
    "    return np.degrees(np.arccos(np.dot(vec1, vec2)))\n",
    "\n",
    "def getAngles(v):\n",
    "    \"\"\"\n",
    "    Returns the Brigg's angles in form [polar angle, azmuthal angle]\n",
    "    \"\"\"\n",
    "    polar_angle = angleBtwn(v,[0,0,1])\n",
    "    xy_angle = np.sign(v[1])*np.arccos(v[0]/np.sqrt(v[0]**2+v[1]**2))\n",
    "    return [polar_angle, xy_angle]\n",
    "\n",
    "def angleBtwn(u,v):\n",
    "    \"\"\"\n",
    "    Returns angle between vectors u and v\n",
    "    \"\"\"\n",
    "    u = np.array(u)\n",
    "    v= np.array(v)\n",
    "    u = 1/np.sqrt(np.sum(u**2))*u\n",
    "    v = 1/np.sqrt(np.sum(v**2))*v\n",
    "    \n",
    "    return np.arccos(np.dot(u,v))\n",
    "\n",
    "def getRotationAxis(snap, startStops, Raxis):\n",
    "    for idx, (first,second) in enumerate(startStops):\n",
    "        if (snap >= first and snap < second):\n",
    "            return Raxis[idx]\n",
    "    return Raxis[-1]\n",
    "\n",
    "def Pearson_correlation(X,Y):\n",
    "    if len(X)==len(Y):\n",
    "        Sum_xy = sum((X-X.mean())*(Y-Y.mean()))\n",
    "        Sum_x_squared = sum((X-X.mean())**2)\n",
    "        Sum_y_squared = sum((Y-Y.mean())**2)       \n",
    "        corr = Sum_xy / np.sqrt(Sum_x_squared * Sum_y_squared)\n",
    "    return corr\n",
    "\n",
    "def getIndex(list, num):\n",
    "    for idx, val in enumerate(list):\n",
    "        if(num in range(val[0],val[1])):\n",
    "            return idx\n",
    "    return -1\n",
    "\n",
    "def snapshot_redshift_corr(basePath,startSnap=75):\n",
    "    \"\"\"\n",
    "    Calls and stores z = and redshift values\n",
    "    \"\"\"\n",
    "    redshift_space = []\n",
    "    for snapshot_number in range(startSnap,100):\n",
    "        header=il.groupcat.loadHeader(basePath,snapshot_number) \n",
    "        redshift_space.append(header.get('Redshift')) \n",
    "    return np.arange(startSnap,100), np.array(redshift_space) \n",
    "\n",
    "# Helper funcation which calculates Briggs angles for each angular momentum axis in array spins\n",
    "\n",
    "def getBriggsAngles(spins, GrNr, subfindID):\n",
    "    \n",
    "    principal_file = principal_path + 'GrNr_%d_snap_%d_99_principal_axes_full.npy'%(GrNr,75)\n",
    "    pattern_file = pattern_path + 'GrNr_%d_snap_%d_99_patternSpeeds.npy'%(GrNr,75)\n",
    "    \n",
    "    theta = []; phi = []\n",
    "    if exists(principal_file) and exists(pattern_file): #crucially needs both files on the same index to calculate Briggs\n",
    "        \n",
    "        principal_axes = np.load(principal_file,allow_pickle=True)\n",
    "        pattern_info = np.load(pattern_file, allow_pickle=True)\n",
    "        pattern_info = dict(enumerate(pattern_info.flatten(),1))[1]\n",
    "        \n",
    "        raxis = getRotationAxis(25, pattern_info['startStop'], pattern_info['Raxis'])\n",
    "        raxis = 1/np.sqrt(np.sum(raxis**2))*raxis\n",
    "        \n",
    "        # Finds transformation matrix that rotates figure rotation axis to align with z-axis, tries to align\n",
    "        # halo major axis with x-axis\n",
    "        z = [[0, 0, 1], [1, 0, 0]]\n",
    "        rot, rssd, sens = R.align_vectors(z, [raxis, [1,0,0]], return_sensitivity=True, weights=[100, .1])\n",
    "        for snap in range(25):\n",
    "            for spin in spins:\n",
    "                spin_bf = np.dot(inv(principal_axes[snap]), spin) # Changes to body frame coordinates\n",
    "                spin_new = (rot.apply(spin_bf)) # Then applies new rotation \n",
    "                spin_new = 1/np.sqrt(np.sum(spin_new**2))*spin_new\n",
    "\n",
    "                # Theta (polar angle): angle between fiducial z-axis (figure rotation axis)\n",
    "                # Phi (azimuthal angle): angle between projection onto xy-plane and x-axis (near halo major axis)\n",
    "                t,p = getAngles(spin_new)\n",
    "                theta.append(t)\n",
    "                phi.append(p)\n",
    "\n",
    "    return theta, phi\n",
    "\n",
    "def make_unit(vec):\n",
    "    \"\"\"\n",
    "    Convenience function, returns the unit-normalized vector\n",
    "    \"\"\"\n",
    "    return 1/np.sqrt(np.sum(vec**2)) * vec\n",
    "\n",
    "def get_indices(lst, targets):\n",
    "    return list(filter(lambda x: lst[x] in targets, range(len(lst))))\n",
    "\n",
    "def func(x,m,b):\n",
    "    return m*x + b"
   ]
  },
  {
   "cell_type": "code",
   "execution_count": 3,
   "id": "1e44e4f7-ae1a-431b-8387-9bfc487d35e4",
   "metadata": {
    "tags": []
   },
   "outputs": [],
   "source": [
    "class decomposeDisk:\n",
    "    \n",
    "    def __init__(self,coords,mass,bins,mmax=4):\n",
    "        \"\"\"\n",
    "        Decompose the vertical structure of the disk into an Azimuthal-Harmonic basis set.\n",
    "        Inputs:\n",
    "                coords: Cartesian (x,y,z) positions of the disk particles, assumed to be \n",
    "                        centered and rotated such that the central angular momentum axis \n",
    "                        lies along z\n",
    "                        \n",
    "                mass:   Masses of each particle\n",
    "                \n",
    "                bins:   annular bins in which to perform the expansion\n",
    "                \n",
    "                mmax:   maximum m order of the expansion. Usually higher than 1 is not needed, \n",
    "                        and may be excessively noisy currently\n",
    "                        \n",
    "        Outputs: \n",
    "                None\n",
    "        \n",
    "        \"\"\"\n",
    "        # Convert to cylindrical\n",
    "        self.R = np.sqrt(coords[:,0]**2+coords[:,1]**2)\n",
    "        self.Theta = np.arctan2(coords[:,1],coords[:,0])\n",
    "        self.Z = coords[:,2]\n",
    "        self.mass = mass\n",
    "        self.mmax = mmax\n",
    "        \n",
    "        # Set up loop through bins, run decomposition on each\n",
    "        self.z_m_R = []\n",
    "        self.bin_centers = []\n",
    "        for i in range(len(bins)-1): \n",
    "            bin_indices = (self.R>bins[i])&(self.R<bins[i+1])\n",
    "            self.z_m_R.append(self.decompose(bin_indices))\n",
    "            self.bin_centers.append(np.sum(mass[bin_indices]*self.R[bin_indices])/np.sum(mass[bin_indices]))\n",
    "        \n",
    "        # Get the mag and phase angle of coefficients\n",
    "        self.z_m_R = np.array(self.z_m_R)\n",
    "        self.z_m_R_mag = np.real(np.sqrt(self.z_m_R*np.conj(self.z_m_R)))\n",
    "        self.z_m_R_PA = 1/np.arange(mmax+1)*np.arctan2(np.imag(self.z_m_R),np.real(self.z_m_R))\n",
    "        \n",
    "        # mean particle position in each bin,\n",
    "        self.bin_centers = np.array(self.bin_centers)\n",
    "        self.z_m_Spl = CubicSpline(self.bin_centers,self.z_m_R)\n",
    "        \n",
    "    def decompose(self,indices):\n",
    "        \"\"\"\n",
    "        Performs the decomposition into the basis set coefficient weights, \n",
    "        should only be used internally by __init__\n",
    "        \n",
    "        Inputs:\n",
    "                indices: the indices into coords and mass to be considered in the decomposition\n",
    "                \n",
    "        Outputs:\n",
    "                z_m_arr: the coefficient weights\n",
    "        \n",
    "        \"\"\"\n",
    "        z_m_arr = []\n",
    "        for m in range(0,self.mmax+1,1):\n",
    "            z_m = np.sum(self.mass[indices]*self.Z[indices]*np.exp(1j*m*self.Theta[indices])) /\\\n",
    "                    np.sum(self.mass[indices])\n",
    "            if m != 0: z_m *= 2\n",
    "            z_m_arr.append(z_m)\n",
    "        return np.array(z_m_arr)        \n",
    "        \n",
    "    def reconstruct_disk(self,pos,m_inds=None):\n",
    "        \"\"\"\n",
    "        Recover the model z-height above/below the nominal disk plane for selected m-modes\n",
    "        Inputs: \n",
    "                pos:      array-like grid of points to return z-height along\n",
    "                m_inds:   array-like or int, m-modes to use in model reconstruction\n",
    "            \n",
    "        Outputs:\n",
    "                z_recov:  array of same shape as pos, the model z-value at pos\n",
    "        \"\"\"\n",
    "        m_arr = np.arange(self.mmax+1)\n",
    "        \n",
    "        # Convert to cylindrical \n",
    "        R = np.sqrt(pos[:,0]**2+pos[:,1]**2)\n",
    "        Theta = np.arctan2(pos[:,1],pos[:,0])\n",
    "        \n",
    "        # Get the interpolated coefficients\n",
    "        z_m = self.z_m_Spl(R)\n",
    "        \n",
    "        # Recover phase angle and magnitude of coefficients\n",
    "        z_phi = 1/m_arr * np.arctan2(np.imag(z_m),np.real(z_m))\n",
    "        z_mag = np.real(np.sqrt(z_m*np.conj(z_m)))\n",
    "        \n",
    "        # Reconstruct z-profile, sum contribution from each m\n",
    "        if m_inds is None:\n",
    "            m_inds = m_arr\n",
    "            \n",
    "        z_recov_m = np.array([z_mag[:,m]*np.cos(m_arr[m]*(Theta-z_phi[:,m])) for m in m_arr])\n",
    "        return np.nansum(z_recov_m[m_inds,:],axis=0)"
   ]
  },
  {
   "cell_type": "code",
   "execution_count": 4,
   "id": "2f3e19ea-bf5c-47bc-9635-266679701bd2",
   "metadata": {
    "tags": []
   },
   "outputs": [],
   "source": [
    "def orient(E,E_ref=np.eye(3),assert_on=True):\n",
    "    \"\"\"\n",
    "    Enforces E to be a RHS, then attempts rotations by 180 deg about each axis until\n",
    "    the angles with respect to E_ref are minimized. If any of these cannot be reduced beyond 90 deg,\n",
    "    throw error\n",
    "    \"\"\"\n",
    "\n",
    "    # Enforce RHS\n",
    "    RHS = np.dot(np.cross(E[:,0],E[:,1]),E[:,2]) > 0\n",
    "    if not RHS: E[:,0] = E[:,0]*-1\n",
    "\n",
    "    # Begin iteration\n",
    "    # Check base orientation first\n",
    "    rotations = [[ 1, 1, 1],\n",
    "                 [-1,-1, 1],\n",
    "                 [ 1,-1,-1],\n",
    "                 [-1, 1,-1]]\n",
    "\n",
    "    angles = []\n",
    "    for rot in rotations:\n",
    "        E_rot = E * rot\n",
    "\n",
    "        # Check angles between E, E_ref\n",
    "        angles.append(np.arccos(np.diagonal(E_rot.T.dot(E_ref))))\n",
    "\n",
    "    # Find the rotation which gives us the smallest square error from E_ref\n",
    "    angles = np.array(angles)\n",
    "    mean_sqr_dev = np.mean(angles**2,axis=1)\n",
    "\n",
    "    min_ind = np.argmin(mean_sqr_dev)\n",
    "    E_new = E*rotations[min_ind]\n",
    "\n",
    "    # Verify none of the angles on this surpass 90 deg\n",
    "    #print(angles[min_ind]*180/np.pi)\n",
    "    if assert_on:\n",
    "        assert np.all(angles[min_ind]<np.pi/2)\n",
    "\n",
    "    return E_new\n",
    "\n",
    "def RotateForPolarPlot(disk_spin_axes,halo_principal_axes,\n",
    "                       close_to_unit_thresh=1e-4,useMajorAxis=False):\n",
    "    \"\"\"\n",
    "    A function to take the orientations of the disk spin axes and \n",
    "    halo minor axes and perform the rotation for plotting on polar \n",
    "    plots. The same rotation is applied to both sets of axes, such \n",
    "    that they are kept in the same frame. \n",
    "    \n",
    "    Additionally, the orientation of the disk spin axis in the halo \n",
    "    body frame is returned\n",
    "    \n",
    "    Inputs:\n",
    "            disk_spin_axes: (N,3), representing the orientation of \n",
    "                                    the inner disk\n",
    "            \n",
    "            halo_principal_axes: (N,3,3), the principal axes of the \n",
    "                                            halo at all snapshots\n",
    "            \n",
    "    Outputs:\n",
    "            \n",
    "            disk_theta_phi: (N,2), angular coordinates of the disk \n",
    "                                    spin axis, to be used for plotting\n",
    "            \n",
    "            halo_theta_phi: (N,2), angular coordinates of the halo minor \n",
    "                                    axis, to be used for plotting\n",
    "            \n",
    "            disk_theta_phi_in_halo_body_frame: (N,2), angular coordinates \n",
    "                                    of the disk spin axis in the halo\n",
    "    \n",
    "    \"\"\"\n",
    "    ##################################################\n",
    "    #### Preprocessing block                      ####\n",
    "    ##################################################\n",
    "    \n",
    "    # First, check input shapes\n",
    "    N = len(disk_spin_axes)\n",
    "    \n",
    "    assert N==len(halo_principal_axes), \"Length of inputs must be equal\"\n",
    "    assert disk_spin_axes.shape==(N,3), \"Disk spin axes must have shape (N,3), but found \"+str(disk_spin_axes.shape)\n",
    "    assert halo_principal_axes.shape==(N,3,3), \"Halo principal axes must have shape (N,3,3), but found \"+str(halo_principal_axes.shape)\n",
    "    \n",
    "    # Second, do some checks on the axes\n",
    "    \n",
    "    # Are all spin axes unit vectors?\n",
    "    spin_mag = np.sqrt(np.sum(disk_spin_axes**2,axis=1))\n",
    "    assert all(abs(spin_mag-1)<close_to_unit_thresh), \"Disk spin axes are not unit length\"\n",
    "    \n",
    "    # Are the principal axes all RHS and unit vectors?\n",
    "    halo_PA_det = np.linalg.det(halo_principal_axes)\n",
    "    assert all(halo_PA_det>0), \"Principal axes must make up a RHS\"\n",
    "    \n",
    "    # Are all the principal axes unit length?\n",
    "    assert all(abs(halo_PA_det-1)<close_to_unit_thresh), \"Principal axes must be mutually orthogonal unit vectors\"\n",
    "    \n",
    "    # Check that all the principal axes have been oriented correctly\n",
    "    halo_PA_orient = [halo_principal_axes[0]]\n",
    "    for j in range(1,N):\n",
    "        halo_PA_orient.append(orient(halo_principal_axes[j],E_ref=halo_PA_orient[j-1]))\n",
    "    halo_PA_orient = np.array(halo_PA_orient)\n",
    "    \n",
    "    # Check that the halo minor axis is not opposite the disk spin axis\n",
    "    # If it is, flip minor and intermediate axes\n",
    "    if useMajorAxis:\n",
    "        halo_minor_axes = halo_PA_orient[:,:,2]\n",
    "    else:\n",
    "        halo_minor_axes = halo_PA_orient[:,:,2]\n",
    "    \n",
    "    dot_prod = np.sum(halo_minor_axes*disk_spin_axes,axis=1)\n",
    "    if np.mean(dot_prod)<0:\n",
    "        halo_PA_orient *= np.array([1,-1,-1]).reshape((1,1,3))\n",
    "        \n",
    "    ##################################################\n",
    "    #### Frame def block                          ####\n",
    "    ##################################################\n",
    "    \n",
    "    # Define the rotation matrix\n",
    "    # First, compute the covariance matrix of the stellar spin axes\n",
    "    covMat = disk_spin_axes.T.dot(disk_spin_axes)\n",
    "    \n",
    "    # eigen decompose the covariance matrix\n",
    "    val,vec = np.linalg.eig(covMat)\n",
    "    \n",
    "    # Rearrange by variance, so that the z axis is the first eigenvector,\n",
    "    # x axis the second eigenvector, and y axis the third\n",
    "    sortInds = np.argsort(val)\n",
    "    #sortInds[1:] = sortInds[1:][::-1]\n",
    "    \n",
    "    vec = vec[:,[sortInds[1],sortInds[0],sortInds[2]]]\n",
    "    \n",
    "    # Check that the first eigenvector is mostly aligned with \n",
    "    # the stellar spin axes\n",
    "    if np.mean(np.sum(vec[:,2]*disk_spin_axes,axis=1))<0:\n",
    "        vec[:,2] *= -1\n",
    "        \n",
    "    # Check that the eigenvectors form a RHS, correct if not\n",
    "    if np.linalg.det(vec)<0:\n",
    "        vec = vec*np.array([-1,-1,1])\n",
    "        \n",
    "    # Finally, define the rotation matrix\n",
    "    R = vec.T\n",
    "    \n",
    "    ##################################################\n",
    "    #### Coordinate transform block               ####\n",
    "    ##################################################\n",
    "    \n",
    "    # First the disk spin axes\n",
    "    disk_rot = R.dot(disk_spin_axes.T).T\n",
    "    \n",
    "    theta = np.arccos(disk_rot[:,2])\n",
    "    phi = np.arctan2(disk_rot[:,1],disk_rot[:,0])\n",
    "    \n",
    "    disk_theta_phi = np.array([theta,phi])\n",
    "    \n",
    "    # Next halo minor axes\n",
    "    if useMajorAxis:\n",
    "        halo_minor_axes = halo_PA_orient[:,:,0]\n",
    "    else:\n",
    "        halo_minor_axes = halo_PA_orient[:,:,2]\n",
    "    halo_rot = R.dot(halo_minor_axes.T).T\n",
    "    \n",
    "    theta = np.arccos(halo_rot[:,2])\n",
    "    phi = np.arctan2(halo_rot[:,1],halo_rot[:,0])\n",
    "    \n",
    "    halo_theta_phi = np.array([theta,phi])\n",
    "    \n",
    "    # Finally, output the disk spin axis orientation in \n",
    "    # the halo body frame\n",
    "    \n",
    "    disk_in_body_frame = np.array([halo_PA_orient[i].T.dot(disk_spin_axes[i]) for i in range(N)])\n",
    "    \n",
    "    theta = np.arccos(disk_in_body_frame[:,2])\n",
    "    phi = np.arctan2(disk_in_body_frame[:,1],disk_in_body_frame[:,0])\n",
    "    \n",
    "    disk_theta_phi_in_halo_body_frame = np.array([theta,phi])\n",
    "    \n",
    "    # output\n",
    "    \n",
    "    return disk_theta_phi, halo_theta_phi, disk_theta_phi_in_halo_body_frame"
   ]
  },
  {
   "cell_type": "code",
   "execution_count": 6,
   "id": "fa385da9-d354-473b-b78b-7d2a7d8852a2",
   "metadata": {
    "tags": []
   },
   "outputs": [],
   "source": [
    "final_diskyIDs = np.load('/home/tnguser/postprocessing/circularity_study/final_diskyIDs.npy')"
   ]
  },
  {
   "cell_type": "code",
   "execution_count": 7,
   "id": "0e5f0554-19fa-473a-a092-dca227d81e25",
   "metadata": {
    "tags": []
   },
   "outputs": [
    {
     "name": "stderr",
     "output_type": "stream",
     "text": [
      "100%|██████████| 34/34 [26:21<00:00, 46.51s/it]\n"
     ]
    }
   ],
   "source": [
    "p = .9\n",
    "N = 100\n",
    "#Let's calculate these according to half mass radius instead\n",
    "\n",
    "save_name = '/home/tnguser/postprocessing/uncertainties/angles/'\n",
    "\n",
    "for subfindID in tqdm(final_diskyIDs[48:-4]):\n",
    "\n",
    "    ### CODE IN COMMENTS ADAPTED FROM NEIL'S \"measure_halo_spin.py\", 75-99 non-tilted 3kpc ----------------------------------------------\n",
    "    ### ----------------------------------------------------------------------------------------------------------\n",
    "    GrNr = (il.groupcat.loadSingle(basePath, 99, subhaloID=subfindID)['SubhaloGrNr'])\n",
    "\n",
    "    snapArr,zArr = snapshot_redshift_corr(basePath)\n",
    "\n",
    "    haloTree = il.lhalotree.loadTree(basePath,99,subfindID,\n",
    "                         fields=['SubhaloGrNr','SnapNum','Group_R_Crit200','SubhaloPos','SubhaloNumber','SubhaloHalfmassRadType'], \n",
    "                         onlyMPB=True)\n",
    "\n",
    "    haloInd,mpb_snapArr = haloTree['SubhaloGrNr'], haloTree['SnapNum']\n",
    "    subfindID = haloTree['SubhaloNumber']\n",
    "    Rvirial   = haloTree['Group_R_Crit200']\n",
    "    subhaloPos = haloTree['SubhaloPos']\n",
    "    halfmassrad = haloTree['SubhaloHalfmassRadType']\n",
    "    angles_mean = []\n",
    "    angles_std = []\n",
    "    for snap in (range(75,100)):\n",
    "\n",
    "        GrNr_i       = value(haloInd[snap == mpb_snapArr])\n",
    "        subfindID_i  = value(subfindID[snap == mpb_snapArr])\n",
    "        Rvirial_i    = value(Rvirial[snap == mpb_snapArr])\n",
    "        subhaloPos_i = value(subhaloPos[snap == mpb_snapArr])\n",
    "        a = 1/(1+value(zArr[snap==snapArr]))\n",
    "        halfmassrad_i = value(halfmassrad[snap == mpb_snapArr])[4]*a\n",
    "\n",
    "        starPos = il.snapshot.loadSubhalo(basePath,snap,subfindID_i,4,fields='Coordinates')\n",
    "        starVel = il.snapshot.loadSubhalo(basePath,snap,subfindID_i,4,fields='Velocities')\n",
    "        starMass = il.snapshot.loadSubhalo(basePath,snap,subfindID_i,4,fields='Masses') \n",
    "\n",
    "        gasPos = il.snapshot.loadSubhalo(basePath,snap,subfindID_i,0,fields='Coordinates')\n",
    "        gasVel = il.snapshot.loadSubhalo(basePath,snap,subfindID_i,0,fields='Velocities')\n",
    "        gasMass = il.snapshot.loadSubhalo(basePath,snap,subfindID_i,0,fields='Masses')    \n",
    "        \n",
    "        particleMass_bar    = starMass * 1e10\n",
    "        particleMass_gas    = gasMass * 1e10\n",
    "        particleCoords_bar = starPos\n",
    "        particleCoords_gas = gasPos\n",
    "        particleVels_bar = starVel\n",
    "        particleVels_gas = gasVel\n",
    "\n",
    "        # center coords on subhalo pos\n",
    "        particleCoords_bar = (particleCoords_bar - subhaloPos_i)*a\n",
    "        # find relative velocities - shouldn't have done this, instead use the spin by TNG (includes DM)\n",
    "        particleVels_bar = (particleVels_bar - np.mean(particleVels_bar,axis=0)) * np.sqrt(a) # km/s\n",
    "\n",
    "        # center coords on subhalo pos\n",
    "        particleCoords_gas = (particleCoords_gas - subhaloPos_i)*a\n",
    "        # find relative velocities - shouldn't have done this, instead use the spin by TNG (includes DM)\n",
    "        particleVels_gas = (particleVels_gas - np.mean(particleVels_gas,axis=0)) * np.sqrt(a) # km/s\n",
    "        \n",
    "        angles = []\n",
    "        innerRad = 0\n",
    "        outerRad = halfmassrad_i\n",
    "        for i in (np.arange(N)):\n",
    "            r_bar = np.sqrt(np.sum(particleCoords_bar**2,axis=1))\n",
    "            indsInBounds = np.where((r_bar>innerRad)&(r_bar<=outerRad))[0]        \n",
    "\n",
    "            # Choosing p percent of samples with repetition\n",
    "            num_data = len(indsInBounds)\n",
    "            num_samples = int(p * num_data)\n",
    "            random_indices = (np.random.randint(0,num_data,size=num_samples))\n",
    "            bootstrap_inds = np.array(indsInBounds)[random_indices.astype(int)]\n",
    "\n",
    "            J_bar = np.sum(particleMass_bar[bootstrap_inds].reshape(-1,1)*np.cross(particleCoords_bar[bootstrap_inds],\n",
    "                                                                                    particleVels_bar[bootstrap_inds]),axis=0) \n",
    "            L_spin = make_unit(J_bar)\n",
    "\n",
    "            r_gas = np.sqrt(np.sum(particleCoords_gas**2,axis=1))\n",
    "            indsInBounds = np.where((r_gas>0)&(r_gas<=10*halfmassrad_i))[0]        \n",
    "\n",
    "            # Choosing p percent of samples with repetition\n",
    "            num_data = len(indsInBounds)\n",
    "            num_samples = int(p * num_data)\n",
    "            random_indices = (np.random.randint(0,num_data,size=num_samples))\n",
    "            bootstrap_inds = np.array(indsInBounds)[random_indices.astype(int)]\n",
    "\n",
    "            J_gas = np.sum(particleMass_gas[bootstrap_inds].reshape(-1,1)*np.cross(particleCoords_gas[bootstrap_inds],\n",
    "                                                                                    particleVels_gas[bootstrap_inds]),axis=0) \n",
    "            gas_spin = make_unit(J_gas)\n",
    "\n",
    "            angle = np.degrees(np.arccos(np.abs(np.dot(gas_spin, L_spin))))\n",
    "            angles.append(angle)\n",
    "\n",
    "        angles_mean.append(np.mean(angles))\n",
    "        angles_std.append(np.std(angles))\n",
    "\n",
    "    temp = save_name+'GrNr_%d_snap_%d_99_LGaxisL*axis_angle_std.npy'%(GrNr,75)\n",
    "    np.save(temp,angles_std,allow_pickle=True)"
   ]
  },
  {
   "cell_type": "code",
   "execution_count": 8,
   "id": "c73fc9bb-ccdb-4bba-b024-8c7cb940443b",
   "metadata": {},
   "outputs": [
    {
     "name": "stderr",
     "output_type": "stream",
     "text": [
      " 33%|███▎      | 2/6 [01:30<03:00, 45.12s/it]\n"
     ]
    },
    {
     "ename": "ValueError",
     "evalue": "`x` must contain only finite values.",
     "output_type": "error",
     "traceback": [
      "\u001b[0;31m---------------------------------------------------------------------------\u001b[0m",
      "\u001b[0;31mValueError\u001b[0m                                Traceback (most recent call last)",
      "Cell \u001b[0;32mIn[8], line 174\u001b[0m\n\u001b[1;32m    172\u001b[0m num_samples \u001b[38;5;241m=\u001b[39m \u001b[38;5;28mint\u001b[39m(p \u001b[38;5;241m*\u001b[39m num_data)\n\u001b[1;32m    173\u001b[0m random_indices \u001b[38;5;241m=\u001b[39m (np\u001b[38;5;241m.\u001b[39mrandom\u001b[38;5;241m.\u001b[39mrandint(\u001b[38;5;241m0\u001b[39m,num_data,size\u001b[38;5;241m=\u001b[39mnum_samples))\n\u001b[0;32m--> 174\u001b[0m warpModel \u001b[38;5;241m=\u001b[39m \u001b[43mdecomposeDisk\u001b[49m\u001b[43m(\u001b[49m\u001b[43mparticleCoords_bar\u001b[49m\u001b[43m[\u001b[49m\u001b[43mrandom_indices\u001b[49m\u001b[43m]\u001b[49m\u001b[43m,\u001b[49m\u001b[43mparticleMass_bar\u001b[49m\u001b[43m[\u001b[49m\u001b[43mrandom_indices\u001b[49m\u001b[43m]\u001b[49m\u001b[43m,\u001b[49m\u001b[43mlogBins\u001b[49m\u001b[43m,\u001b[49m\u001b[43mmmax\u001b[49m\u001b[38;5;241;43m=\u001b[39;49m\u001b[43mmmax\u001b[49m\u001b[43m)\u001b[49m\n\u001b[1;32m    175\u001b[0m popt, pcov \u001b[38;5;241m=\u001b[39m curve_fit(func, warpModel\u001b[38;5;241m.\u001b[39mbin_centers, warpModel\u001b[38;5;241m.\u001b[39mz_m_R_mag[:,\u001b[38;5;241m1\u001b[39m])\n\u001b[1;32m    177\u001b[0m all_angles\u001b[38;5;241m.\u001b[39mappend(np\u001b[38;5;241m.\u001b[39mabs(np\u001b[38;5;241m.\u001b[39mdegrees(np\u001b[38;5;241m.\u001b[39marctan2(func(warpModel\u001b[38;5;241m.\u001b[39mbin_centers, \u001b[38;5;241m*\u001b[39mpopt)[\u001b[38;5;241m-\u001b[39m\u001b[38;5;241m1\u001b[39m],warpModel\u001b[38;5;241m.\u001b[39mbin_centers[\u001b[38;5;241m-\u001b[39m\u001b[38;5;241m1\u001b[39m]))))\n",
      "Cell \u001b[0;32mIn[3], line 44\u001b[0m, in \u001b[0;36mdecomposeDisk.__init__\u001b[0;34m(self, coords, mass, bins, mmax)\u001b[0m\n\u001b[1;32m     42\u001b[0m \u001b[38;5;66;03m# mean particle position in each bin,\u001b[39;00m\n\u001b[1;32m     43\u001b[0m \u001b[38;5;28mself\u001b[39m\u001b[38;5;241m.\u001b[39mbin_centers \u001b[38;5;241m=\u001b[39m np\u001b[38;5;241m.\u001b[39marray(\u001b[38;5;28mself\u001b[39m\u001b[38;5;241m.\u001b[39mbin_centers)\n\u001b[0;32m---> 44\u001b[0m \u001b[38;5;28mself\u001b[39m\u001b[38;5;241m.\u001b[39mz_m_Spl \u001b[38;5;241m=\u001b[39m \u001b[43mCubicSpline\u001b[49m\u001b[43m(\u001b[49m\u001b[38;5;28;43mself\u001b[39;49m\u001b[38;5;241;43m.\u001b[39;49m\u001b[43mbin_centers\u001b[49m\u001b[43m,\u001b[49m\u001b[38;5;28;43mself\u001b[39;49m\u001b[38;5;241;43m.\u001b[39;49m\u001b[43mz_m_R\u001b[49m\u001b[43m)\u001b[49m\n",
      "File \u001b[0;32m/opt/conda/lib/python3.11/site-packages/scipy/interpolate/_cubic.py:636\u001b[0m, in \u001b[0;36mCubicSpline.__init__\u001b[0;34m(self, x, y, axis, bc_type, extrapolate)\u001b[0m\n\u001b[1;32m    635\u001b[0m \u001b[38;5;28;01mdef\u001b[39;00m \u001b[38;5;21m__init__\u001b[39m(\u001b[38;5;28mself\u001b[39m, x, y, axis\u001b[38;5;241m=\u001b[39m\u001b[38;5;241m0\u001b[39m, bc_type\u001b[38;5;241m=\u001b[39m\u001b[38;5;124m'\u001b[39m\u001b[38;5;124mnot-a-knot\u001b[39m\u001b[38;5;124m'\u001b[39m, extrapolate\u001b[38;5;241m=\u001b[39m\u001b[38;5;28;01mNone\u001b[39;00m):\n\u001b[0;32m--> 636\u001b[0m     x, dx, y, axis, _ \u001b[38;5;241m=\u001b[39m \u001b[43mprepare_input\u001b[49m\u001b[43m(\u001b[49m\u001b[43mx\u001b[49m\u001b[43m,\u001b[49m\u001b[43m \u001b[49m\u001b[43my\u001b[49m\u001b[43m,\u001b[49m\u001b[43m \u001b[49m\u001b[43maxis\u001b[49m\u001b[43m)\u001b[49m\n\u001b[1;32m    637\u001b[0m     n \u001b[38;5;241m=\u001b[39m \u001b[38;5;28mlen\u001b[39m(x)\n\u001b[1;32m    639\u001b[0m     bc, y \u001b[38;5;241m=\u001b[39m \u001b[38;5;28mself\u001b[39m\u001b[38;5;241m.\u001b[39m_validate_bc(bc_type, y, y\u001b[38;5;241m.\u001b[39mshape[\u001b[38;5;241m1\u001b[39m:], axis)\n",
      "File \u001b[0;32m/opt/conda/lib/python3.11/site-packages/scipy/interpolate/_cubic.py:52\u001b[0m, in \u001b[0;36mprepare_input\u001b[0;34m(x, y, axis, dydx)\u001b[0m\n\u001b[1;32m     48\u001b[0m     \u001b[38;5;28;01mraise\u001b[39;00m \u001b[38;5;167;01mValueError\u001b[39;00m(\u001b[38;5;124m\"\u001b[39m\u001b[38;5;124mThe length of `y` along `axis`=\u001b[39m\u001b[38;5;132;01m{}\u001b[39;00m\u001b[38;5;124m doesn\u001b[39m\u001b[38;5;124m'\u001b[39m\u001b[38;5;124mt \u001b[39m\u001b[38;5;124m\"\u001b[39m\n\u001b[1;32m     49\u001b[0m                      \u001b[38;5;124m\"\u001b[39m\u001b[38;5;124mmatch the length of `x`\u001b[39m\u001b[38;5;124m\"\u001b[39m\u001b[38;5;241m.\u001b[39mformat(axis))\n\u001b[1;32m     51\u001b[0m \u001b[38;5;28;01mif\u001b[39;00m \u001b[38;5;129;01mnot\u001b[39;00m np\u001b[38;5;241m.\u001b[39mall(np\u001b[38;5;241m.\u001b[39misfinite(x)):\n\u001b[0;32m---> 52\u001b[0m     \u001b[38;5;28;01mraise\u001b[39;00m \u001b[38;5;167;01mValueError\u001b[39;00m(\u001b[38;5;124m\"\u001b[39m\u001b[38;5;124m`x` must contain only finite values.\u001b[39m\u001b[38;5;124m\"\u001b[39m)\n\u001b[1;32m     53\u001b[0m \u001b[38;5;28;01mif\u001b[39;00m \u001b[38;5;129;01mnot\u001b[39;00m np\u001b[38;5;241m.\u001b[39mall(np\u001b[38;5;241m.\u001b[39misfinite(y)):\n\u001b[1;32m     54\u001b[0m     \u001b[38;5;28;01mraise\u001b[39;00m \u001b[38;5;167;01mValueError\u001b[39;00m(\u001b[38;5;124m\"\u001b[39m\u001b[38;5;124m`y` must contain only finite values.\u001b[39m\u001b[38;5;124m\"\u001b[39m)\n",
      "\u001b[0;31mValueError\u001b[0m: `x` must contain only finite values."
     ]
    }
   ],
   "source": [
    "p = .9\n",
    "N = 100\n",
    "save_name = '/home/tnguser/postprocessing/uncertainties/warp_angles/'\n",
    "for subfindID in tqdm(np.sort(final_diskyIDs)[80:]):\n",
    "\n",
    "    GrNr = (il.groupcat.loadSingle(basePath, 99, subhaloID=subfindID)['SubhaloGrNr'])\n",
    "\n",
    "    snapArr,zArr = snapshot_redshift_corr(basePath)\n",
    "\n",
    "    haloTree = il.lhalotree.loadTree(basePath,99,subfindID,\n",
    "                                     fields=['SubhaloGrNr','SnapNum','Group_R_Crit200','SubhaloPos','SubhaloNumber','SubhaloHalfmassRadType'], \n",
    "                                     onlyMPB=True)\n",
    "\n",
    "    haloInd,mpb_snapArr = haloTree['SubhaloGrNr'], haloTree['SnapNum']\n",
    "    subfindID = haloTree['SubhaloNumber']\n",
    "    Rvirial   = haloTree['Group_R_Crit200']\n",
    "    subhaloPos = haloTree['SubhaloPos']\n",
    "    halfmassrad = haloTree['SubhaloHalfmassRadType']\n",
    "    angles_mean = []\n",
    "    angles_std = []\n",
    "\n",
    "    for snap in (range(75,100)):\n",
    "        GrNr_i       = value(haloInd[snap == mpb_snapArr])\n",
    "        subfindID_i  = value(subfindID[snap == mpb_snapArr])\n",
    "        Rvirial_i    = value(Rvirial[snap == mpb_snapArr])\n",
    "        subhaloPos_i = value(subhaloPos[snap == mpb_snapArr])\n",
    "        a = 1/(1+value(zArr[snap==snapArr]))\n",
    "        halfmassrad_i = value(halfmassrad[snap == mpb_snapArr])[4]*a\n",
    "\n",
    "        starPos = il.snapshot.loadSubhalo(basePath,snap,subfindID_i,4,fields='Coordinates')\n",
    "        gasPos = il.snapshot.loadSubhalo(basePath,snap,subfindID_i,0,fields='Coordinates')\n",
    "        dmPos = il.snapshot.loadSubhalo(basePath,snap,subfindID_i,1,fields='Coordinates')\n",
    "\n",
    "        starVel = il.snapshot.loadSubhalo(basePath,snap,subfindID_i,4,fields='Velocities')\n",
    "        gasVel = il.snapshot.loadSubhalo(basePath,snap,subfindID_i,0,fields='Velocities')\n",
    "        dmVel = il.snapshot.loadSubhalo(basePath,snap,subfindID_i,1,fields='Velocities')\n",
    "\n",
    "        starMass = il.snapshot.loadSubhalo(basePath,snap,subfindID_i,4,fields='Masses') \n",
    "\n",
    "            # following Neil's method, but only using stars (not gas or DM)\n",
    "        if (type(starPos) is not dict):\n",
    "            particleCoords_bar  = starPos\n",
    "            particleVels_bar    = starVel\n",
    "            particleMass_bar    = starMass * 1e10\n",
    "        else:\n",
    "                # no stars in the halo\n",
    "            print(\"ERROR: no stars in halo.\")\n",
    "            particleCoords_bar  = np.array([[np.nan,np.nan,np.nan]])\n",
    "            particleVels_bar    = np.array([[np.nan,np.nan,np.nan]])\n",
    "            particleMass_bar    = np.array([np.nan])\n",
    "\n",
    "        if (type(gasPos) is not dict):\n",
    "            particleCoords_gas  = gasPos\n",
    "            particleVels_gas    = gasVel\n",
    "\n",
    "        else:\n",
    "                # no stars in the halo\n",
    "            print(\"ERROR: no gas in halo.\")\n",
    "            particleCoords_gas  = np.array([[np.nan,np.nan,np.nan]])\n",
    "            particleVels_gas    = np.array([[np.nan,np.nan,np.nan]])\n",
    "\n",
    "        if (type(gasPos) is not dict):\n",
    "            particleCoords_dm  = dmPos\n",
    "            particleVels_dm   = dmVel\n",
    "\n",
    "        else:\n",
    "                # no stars in the halo\n",
    "            print(\"ERROR: no dark matter in halo.\")\n",
    "            particleCoords_dm  = np.array([[np.nan,np.nan,np.nan]])\n",
    "            particleVels_dm    = np.array([[np.nan,np.nan,np.nan]])\n",
    "\n",
    "            ########################################################################\n",
    "            # check that the halo is not crossing the box boundary, correct if it is\n",
    "            # condition is whether it is within 2 virial radii\n",
    "        passUpperBound = subhaloPos_i + 2*Rvirial_i >= 35000\n",
    "        passLowerBound = subhaloPos_i - 2*Rvirial_i <= 0\n",
    "\n",
    "        if any(passUpperBound):\n",
    "                # shift the particles\n",
    "            particleCoords_bar[:,passUpperBound] = particleCoords_bar[:,passUpperBound] - 35000/2\n",
    "            subhaloPos_i[passUpperBound] = subhaloPos_i[passUpperBound] - 35000/2\n",
    "                #reinforce boundary condition\n",
    "            ind_bar = np.where(particleCoords_bar[:,passUpperBound]<0)[0]\n",
    "            particleCoords_bar[ind_bar,passUpperBound] = particleCoords_bar[ind_bar,passUpperBound] + 35000\n",
    "\n",
    "        if any(passLowerBound):\n",
    "            particleCoords_bar[:,passLowerBound] = particleCoords_bar[:,passLowerBound] + 35000/2 \n",
    "            subhaloPos_i[passLowerBound] = subhaloPos_i[passLowerBound] + 35000/2\n",
    "\n",
    "            ind_bar = np.where(particleCoords_bar[:,passLowerBound]>35000)[0]\n",
    "            particleCoords_bar[ind_bar,passLowerBound] = particleCoords_bar[ind_bar,passLowerBound] - 35000\n",
    "            ########################################################################\n",
    "\n",
    "            # center coords on subhalo pos\n",
    "        particleCoords_bar = (particleCoords_bar - subhaloPos_i)*a\n",
    "            # find relative velocities - shouldn't have done this, instead use the spin by TNG (includes DM)\n",
    "        paricleVels_bar = (particleVels_bar - np.mean(particleVels_bar,axis=0)) * np.sqrt(a) # km/s\n",
    "\n",
    "        if any(passUpperBound):\n",
    "                # shift the particles\n",
    "            particleCoords_gas[:,passUpperBound] = particleCoords_gas[:,passUpperBound] - 35000/2\n",
    "            subhaloPos_i[passUpperBound] = subhaloPos_i[passUpperBound] - 35000/2\n",
    "                #reinforce boundary condition\n",
    "            ind_bar = np.where(particleCoords_gas[:,passUpperBound]<0)[0]\n",
    "            particleCoords_gas[ind_bar,passUpperBound] = particleCoords_gas[ind_bar,passUpperBound] + 35000\n",
    "\n",
    "        if any(passLowerBound):\n",
    "            particleCoords_gas[:,passLowerBound] = particleCoords_gas[:,passLowerBound] + 35000/2 \n",
    "            subhaloPos_i[passLowerBound] = subhaloPos_i[passLowerBound] + 35000/2\n",
    "\n",
    "            ind_bar = np.where(particleCoords_gas[:,passLowerBound]>35000)[0]\n",
    "            particleCoords_gas[ind_bar,passLowerBound] = particleCoords_gas[ind_bar,passLowerBound] - 35000\n",
    "            ########################################################################\n",
    "\n",
    "            # center coords on subhalo pos\n",
    "        particleCoords_gas = (particleCoords_gas - subhaloPos_i)*a\n",
    "        particleVels_gas = (particleVels_gas - np.mean(particleVels_gas,axis=0)) * np.sqrt(a) # km/s\n",
    "\n",
    "        if any(passUpperBound):\n",
    "                # shift the particles\n",
    "            particleCoords_dm[:,passUpperBound] = particleCoords_dm[:,passUpperBound] - 35000/2\n",
    "            subhaloPos_i[passUpperBound] = subhaloPos_i[passUpperBound] - 35000/2\n",
    "                #reinforce boundary condition\n",
    "            ind_bar = np.where(particleCoords_dm[:,passUpperBound]<0)[0]\n",
    "            particleCoords_dm[ind_bar,passUpperBound] = particleCoords_dm[ind_bar,passUpperBound] + 35000\n",
    "\n",
    "        if any(passLowerBound):\n",
    "            particleCoords_dm[:,passLowerBound] = particleCoords_dm[:,passLowerBound] + 35000/2 \n",
    "            subhaloPos_i[passLowerBound] = subhaloPos_i[passLowerBound] + 35000/2\n",
    "\n",
    "            ind_bar = np.where(particleCoords_dm[:,passLowerBound]>35000)[0]\n",
    "            particleCoords_dm[ind_bar,passLowerBound] = particleCoords_dm[ind_bar,passLowerBound] - 35000\n",
    "            ########################################################################\n",
    "\n",
    "            # center coords on subhalo pos\n",
    "        particleCoords_dm = (particleCoords_dm - subhaloPos_i)*a\n",
    "        particleVels_dm = (particleVels_dm - np.mean(particleVels_dm,axis=0)) * np.sqrt(a) # km/s\n",
    "\n",
    "        # Rotate into plane of inner disk\n",
    "        r = np.sqrt(np.sum(particleCoords_bar**2,axis=1))\n",
    "        in_half = r<=halfmassrad_i\n",
    "\n",
    "        L_parts = particleMass_bar.reshape(-1,1) * np.cross(particleCoords_bar,\n",
    "                                                              paricleVels_bar)\n",
    "        L_spec_half = (np.sum(L_parts[in_half],axis=0) / np.sum(particleMass_bar[in_half]).reshape(-1,1)).reshape(3)\n",
    "\n",
    "        e3 = L_spec_half / np.sqrt(np.sum(L_spec_half**2))\n",
    "        e1 = np.cross(np.array([0,1,0]),e3)\n",
    "        e1 = e1 / np.sqrt(np.sum(e1**2))\n",
    "        e2 = np.cross(e3,e1)\n",
    "\n",
    "        Rmat = np.array([e1,e2,e3]).T\n",
    "\n",
    "        # Rotate\n",
    "        particleCoords_bar = Rmat.T.dot(particleCoords_bar.T).T\n",
    "        particleVels_bar = Rmat.T.dot(particleVels_bar.T).T\n",
    "\n",
    "        particleCoords_gas = Rmat.T.dot(particleCoords_gas.T).T\n",
    "        particleVels_gas = Rmat.T.dot(particleVels_gas.T).T\n",
    "\n",
    "        particleCoords_dm = Rmat.T.dot(particleCoords_dm.T).T\n",
    "        particleVels_dm = Rmat.T.dot(particleVels_dm.T).T\n",
    "        # -------------------------------------------------------------------------------------------------------\n",
    "\n",
    "        # BOOTSTRAPPING HERE\n",
    "        logBins = np.logspace(np.log10(halfmassrad_i),np.log10(2*halfmassrad_i),10)\n",
    "        mmax = 3\n",
    "        all_angles = []\n",
    "        for i in np.arange(N):\n",
    "            # Choosing p percent of samples with repetition\n",
    "            num_data = len(particleCoords_bar)\n",
    "            num_samples = int(p * num_data)\n",
    "            random_indices = (np.random.randint(0,num_data,size=num_samples))\n",
    "            warpModel = decomposeDisk(particleCoords_bar[random_indices],particleMass_bar[random_indices],logBins,mmax=mmax)\n",
    "            popt, pcov = curve_fit(func, warpModel.bin_centers, warpModel.z_m_R_mag[:,1])\n",
    "\n",
    "            all_angles.append(np.abs(np.degrees(np.arctan2(func(warpModel.bin_centers, *popt)[-1],warpModel.bin_centers[-1]))))\n",
    "\n",
    "        angles_mean.append(np.mean(all_angles))\n",
    "        angles_std.append(np.std(all_angles))\n",
    "\n",
    "    temp = save_name+'GrNr_%d_snap_%d_99_warp_angle_std.npy'%(GrNr,75)\n",
    "    np.save(temp,angles_std,allow_pickle=True)"
   ]
  },
  {
   "cell_type": "code",
   "execution_count": 14,
   "id": "dac79481-4f94-47cb-941f-f636b83b8de8",
   "metadata": {},
   "outputs": [
    {
     "name": "stdout",
     "output_type": "stream",
     "text": [
      "working on # 1 of  86\n"
     ]
    },
    {
     "name": "stderr",
     "output_type": "stream",
     "text": [
      "100%|██████████| 100/100 [09:33<00:00,  5.74s/it]\n"
     ]
    },
    {
     "name": "stdout",
     "output_type": "stream",
     "text": [
      "working on # 2 of  86\n"
     ]
    },
    {
     "name": "stderr",
     "output_type": "stream",
     "text": [
      "100%|██████████| 100/100 [07:52<00:00,  4.73s/it]\n"
     ]
    },
    {
     "name": "stdout",
     "output_type": "stream",
     "text": [
      "working on # 3 of  86\n"
     ]
    },
    {
     "name": "stderr",
     "output_type": "stream",
     "text": [
      "100%|██████████| 100/100 [09:55<00:00,  5.95s/it]\n"
     ]
    },
    {
     "name": "stdout",
     "output_type": "stream",
     "text": [
      "working on # 4 of  86\n"
     ]
    },
    {
     "name": "stderr",
     "output_type": "stream",
     "text": [
      "100%|██████████| 100/100 [02:17<00:00,  1.38s/it]\n"
     ]
    },
    {
     "name": "stdout",
     "output_type": "stream",
     "text": [
      "working on # 5 of  86\n"
     ]
    },
    {
     "name": "stderr",
     "output_type": "stream",
     "text": [
      "100%|██████████| 100/100 [03:02<00:00,  1.82s/it]\n"
     ]
    },
    {
     "name": "stdout",
     "output_type": "stream",
     "text": [
      "working on # 6 of  86\n"
     ]
    },
    {
     "name": "stderr",
     "output_type": "stream",
     "text": [
      "100%|██████████| 100/100 [03:38<00:00,  2.19s/it]\n"
     ]
    },
    {
     "name": "stdout",
     "output_type": "stream",
     "text": [
      "working on # 7 of  86\n"
     ]
    },
    {
     "name": "stderr",
     "output_type": "stream",
     "text": [
      "100%|██████████| 100/100 [03:22<00:00,  2.02s/it]\n"
     ]
    },
    {
     "name": "stdout",
     "output_type": "stream",
     "text": [
      "working on # 8 of  86\n"
     ]
    },
    {
     "name": "stderr",
     "output_type": "stream",
     "text": [
      "100%|██████████| 100/100 [02:48<00:00,  1.68s/it]\n"
     ]
    },
    {
     "name": "stdout",
     "output_type": "stream",
     "text": [
      "working on # 9 of  86\n"
     ]
    },
    {
     "name": "stderr",
     "output_type": "stream",
     "text": [
      "100%|██████████| 100/100 [02:31<00:00,  1.51s/it]\n"
     ]
    },
    {
     "name": "stdout",
     "output_type": "stream",
     "text": [
      "working on # 10 of  86\n"
     ]
    },
    {
     "name": "stderr",
     "output_type": "stream",
     "text": [
      "100%|██████████| 100/100 [03:10<00:00,  1.90s/it]\n"
     ]
    },
    {
     "name": "stdout",
     "output_type": "stream",
     "text": [
      "working on # 11 of  86\n"
     ]
    },
    {
     "name": "stderr",
     "output_type": "stream",
     "text": [
      "100%|██████████| 100/100 [02:26<00:00,  1.46s/it]\n"
     ]
    },
    {
     "name": "stdout",
     "output_type": "stream",
     "text": [
      "working on # 12 of  86\n"
     ]
    },
    {
     "name": "stderr",
     "output_type": "stream",
     "text": [
      "100%|██████████| 100/100 [02:52<00:00,  1.73s/it]\n"
     ]
    },
    {
     "name": "stdout",
     "output_type": "stream",
     "text": [
      "working on # 13 of  86\n"
     ]
    },
    {
     "name": "stderr",
     "output_type": "stream",
     "text": [
      "100%|██████████| 100/100 [02:29<00:00,  1.49s/it]\n"
     ]
    },
    {
     "name": "stdout",
     "output_type": "stream",
     "text": [
      "working on # 14 of  86\n"
     ]
    },
    {
     "name": "stderr",
     "output_type": "stream",
     "text": [
      "100%|██████████| 100/100 [02:43<00:00,  1.64s/it]\n"
     ]
    },
    {
     "name": "stdout",
     "output_type": "stream",
     "text": [
      "working on # 15 of  86\n"
     ]
    },
    {
     "name": "stderr",
     "output_type": "stream",
     "text": [
      "100%|██████████| 100/100 [02:49<00:00,  1.70s/it]\n"
     ]
    },
    {
     "name": "stdout",
     "output_type": "stream",
     "text": [
      "working on # 16 of  86\n"
     ]
    },
    {
     "name": "stderr",
     "output_type": "stream",
     "text": [
      "100%|██████████| 100/100 [02:22<00:00,  1.42s/it]\n"
     ]
    },
    {
     "name": "stdout",
     "output_type": "stream",
     "text": [
      "working on # 17 of  86\n"
     ]
    },
    {
     "name": "stderr",
     "output_type": "stream",
     "text": [
      "100%|██████████| 100/100 [02:20<00:00,  1.40s/it]\n"
     ]
    },
    {
     "name": "stdout",
     "output_type": "stream",
     "text": [
      "working on # 18 of  86\n"
     ]
    },
    {
     "name": "stderr",
     "output_type": "stream",
     "text": [
      "100%|██████████| 100/100 [02:31<00:00,  1.52s/it]\n"
     ]
    },
    {
     "name": "stdout",
     "output_type": "stream",
     "text": [
      "working on # 19 of  86\n"
     ]
    },
    {
     "name": "stderr",
     "output_type": "stream",
     "text": [
      "100%|██████████| 100/100 [02:37<00:00,  1.57s/it]\n"
     ]
    },
    {
     "name": "stdout",
     "output_type": "stream",
     "text": [
      "working on # 20 of  86\n"
     ]
    },
    {
     "name": "stderr",
     "output_type": "stream",
     "text": [
      "100%|██████████| 100/100 [02:22<00:00,  1.42s/it]\n"
     ]
    },
    {
     "name": "stdout",
     "output_type": "stream",
     "text": [
      "working on # 21 of  86\n"
     ]
    },
    {
     "name": "stderr",
     "output_type": "stream",
     "text": [
      "100%|██████████| 100/100 [02:21<00:00,  1.42s/it]\n"
     ]
    },
    {
     "name": "stdout",
     "output_type": "stream",
     "text": [
      "working on # 22 of  86\n"
     ]
    },
    {
     "name": "stderr",
     "output_type": "stream",
     "text": [
      "100%|██████████| 100/100 [02:10<00:00,  1.31s/it]\n"
     ]
    },
    {
     "name": "stdout",
     "output_type": "stream",
     "text": [
      "working on # 23 of  86\n"
     ]
    },
    {
     "name": "stderr",
     "output_type": "stream",
     "text": [
      "100%|██████████| 100/100 [01:53<00:00,  1.13s/it]\n"
     ]
    },
    {
     "name": "stdout",
     "output_type": "stream",
     "text": [
      "working on # 24 of  86\n"
     ]
    },
    {
     "name": "stderr",
     "output_type": "stream",
     "text": [
      "100%|██████████| 100/100 [02:49<00:00,  1.69s/it]\n"
     ]
    },
    {
     "name": "stdout",
     "output_type": "stream",
     "text": [
      "working on # 25 of  86\n"
     ]
    },
    {
     "name": "stderr",
     "output_type": "stream",
     "text": [
      "100%|██████████| 100/100 [07:41<00:00,  4.62s/it]\n"
     ]
    },
    {
     "name": "stdout",
     "output_type": "stream",
     "text": [
      "working on # 26 of  86\n"
     ]
    },
    {
     "name": "stderr",
     "output_type": "stream",
     "text": [
      "100%|██████████| 100/100 [02:01<00:00,  1.22s/it]\n"
     ]
    },
    {
     "name": "stdout",
     "output_type": "stream",
     "text": [
      "working on # 27 of  86\n"
     ]
    },
    {
     "name": "stderr",
     "output_type": "stream",
     "text": [
      "100%|██████████| 100/100 [02:24<00:00,  1.45s/it]\n"
     ]
    },
    {
     "name": "stdout",
     "output_type": "stream",
     "text": [
      "working on # 28 of  86\n"
     ]
    },
    {
     "name": "stderr",
     "output_type": "stream",
     "text": [
      "100%|██████████| 100/100 [01:41<00:00,  1.01s/it]\n"
     ]
    },
    {
     "name": "stdout",
     "output_type": "stream",
     "text": [
      "working on # 29 of  86\n"
     ]
    },
    {
     "name": "stderr",
     "output_type": "stream",
     "text": [
      "100%|██████████| 100/100 [01:35<00:00,  1.05it/s]\n"
     ]
    },
    {
     "name": "stdout",
     "output_type": "stream",
     "text": [
      "working on # 30 of  86\n"
     ]
    },
    {
     "name": "stderr",
     "output_type": "stream",
     "text": [
      "100%|██████████| 100/100 [02:15<00:00,  1.35s/it]\n"
     ]
    },
    {
     "name": "stdout",
     "output_type": "stream",
     "text": [
      "working on # 31 of  86\n"
     ]
    },
    {
     "name": "stderr",
     "output_type": "stream",
     "text": [
      "100%|██████████| 100/100 [02:13<00:00,  1.34s/it]\n"
     ]
    },
    {
     "name": "stdout",
     "output_type": "stream",
     "text": [
      "working on # 32 of  86\n"
     ]
    },
    {
     "name": "stderr",
     "output_type": "stream",
     "text": [
      "100%|██████████| 100/100 [01:39<00:00,  1.00it/s]\n"
     ]
    },
    {
     "name": "stdout",
     "output_type": "stream",
     "text": [
      "working on # 33 of  86\n"
     ]
    },
    {
     "name": "stderr",
     "output_type": "stream",
     "text": [
      "100%|██████████| 100/100 [01:49<00:00,  1.09s/it]\n"
     ]
    },
    {
     "name": "stdout",
     "output_type": "stream",
     "text": [
      "working on # 34 of  86\n"
     ]
    },
    {
     "name": "stderr",
     "output_type": "stream",
     "text": [
      "100%|██████████| 100/100 [01:59<00:00,  1.19s/it]\n"
     ]
    },
    {
     "name": "stdout",
     "output_type": "stream",
     "text": [
      "working on # 35 of  86\n"
     ]
    },
    {
     "name": "stderr",
     "output_type": "stream",
     "text": [
      "100%|██████████| 100/100 [01:51<00:00,  1.12s/it]\n"
     ]
    },
    {
     "name": "stdout",
     "output_type": "stream",
     "text": [
      "working on # 36 of  86\n"
     ]
    },
    {
     "name": "stderr",
     "output_type": "stream",
     "text": [
      "100%|██████████| 100/100 [01:34<00:00,  1.06it/s]\n"
     ]
    },
    {
     "name": "stdout",
     "output_type": "stream",
     "text": [
      "working on # 37 of  86\n"
     ]
    },
    {
     "name": "stderr",
     "output_type": "stream",
     "text": [
      "100%|██████████| 100/100 [02:17<00:00,  1.38s/it]\n"
     ]
    },
    {
     "name": "stdout",
     "output_type": "stream",
     "text": [
      "working on # 38 of  86\n"
     ]
    },
    {
     "name": "stderr",
     "output_type": "stream",
     "text": [
      "100%|██████████| 100/100 [01:41<00:00,  1.02s/it]\n"
     ]
    },
    {
     "name": "stdout",
     "output_type": "stream",
     "text": [
      "working on # 39 of  86\n"
     ]
    },
    {
     "name": "stderr",
     "output_type": "stream",
     "text": [
      "100%|██████████| 100/100 [02:01<00:00,  1.21s/it]\n"
     ]
    },
    {
     "name": "stdout",
     "output_type": "stream",
     "text": [
      "working on # 40 of  86\n"
     ]
    },
    {
     "name": "stderr",
     "output_type": "stream",
     "text": [
      "100%|██████████| 100/100 [02:21<00:00,  1.41s/it]\n"
     ]
    },
    {
     "name": "stdout",
     "output_type": "stream",
     "text": [
      "working on # 41 of  86\n"
     ]
    },
    {
     "name": "stderr",
     "output_type": "stream",
     "text": [
      "100%|██████████| 100/100 [01:57<00:00,  1.18s/it]\n"
     ]
    },
    {
     "name": "stdout",
     "output_type": "stream",
     "text": [
      "working on # 42 of  86\n"
     ]
    },
    {
     "name": "stderr",
     "output_type": "stream",
     "text": [
      "100%|██████████| 100/100 [01:46<00:00,  1.07s/it]\n"
     ]
    },
    {
     "name": "stdout",
     "output_type": "stream",
     "text": [
      "working on # 43 of  86\n"
     ]
    },
    {
     "name": "stderr",
     "output_type": "stream",
     "text": [
      "100%|██████████| 100/100 [01:33<00:00,  1.07it/s]\n"
     ]
    },
    {
     "name": "stdout",
     "output_type": "stream",
     "text": [
      "working on # 44 of  86\n"
     ]
    },
    {
     "name": "stderr",
     "output_type": "stream",
     "text": [
      "100%|██████████| 100/100 [01:47<00:00,  1.07s/it]\n"
     ]
    },
    {
     "name": "stdout",
     "output_type": "stream",
     "text": [
      "working on # 45 of  86\n"
     ]
    },
    {
     "name": "stderr",
     "output_type": "stream",
     "text": [
      "100%|██████████| 100/100 [01:55<00:00,  1.16s/it]\n"
     ]
    },
    {
     "name": "stdout",
     "output_type": "stream",
     "text": [
      "working on # 46 of  86\n"
     ]
    },
    {
     "name": "stderr",
     "output_type": "stream",
     "text": [
      "100%|██████████| 100/100 [01:50<00:00,  1.11s/it]\n"
     ]
    },
    {
     "name": "stdout",
     "output_type": "stream",
     "text": [
      "working on # 47 of  86\n"
     ]
    },
    {
     "name": "stderr",
     "output_type": "stream",
     "text": [
      "100%|██████████| 100/100 [02:09<00:00,  1.29s/it]\n"
     ]
    },
    {
     "name": "stdout",
     "output_type": "stream",
     "text": [
      "working on # 48 of  86\n"
     ]
    },
    {
     "name": "stderr",
     "output_type": "stream",
     "text": [
      "100%|██████████| 100/100 [01:14<00:00,  1.34it/s]\n"
     ]
    },
    {
     "name": "stdout",
     "output_type": "stream",
     "text": [
      "working on # 49 of  86\n"
     ]
    },
    {
     "name": "stderr",
     "output_type": "stream",
     "text": [
      "100%|██████████| 100/100 [02:12<00:00,  1.33s/it]\n"
     ]
    },
    {
     "name": "stdout",
     "output_type": "stream",
     "text": [
      "working on # 50 of  86\n"
     ]
    },
    {
     "name": "stderr",
     "output_type": "stream",
     "text": [
      "100%|██████████| 100/100 [01:24<00:00,  1.19it/s]\n"
     ]
    },
    {
     "name": "stdout",
     "output_type": "stream",
     "text": [
      "working on # 51 of  86\n"
     ]
    },
    {
     "name": "stderr",
     "output_type": "stream",
     "text": [
      "100%|██████████| 100/100 [01:23<00:00,  1.20it/s]\n"
     ]
    },
    {
     "name": "stdout",
     "output_type": "stream",
     "text": [
      "working on # 52 of  86\n"
     ]
    },
    {
     "name": "stderr",
     "output_type": "stream",
     "text": [
      "100%|██████████| 100/100 [01:13<00:00,  1.35it/s]\n"
     ]
    },
    {
     "name": "stdout",
     "output_type": "stream",
     "text": [
      "working on # 53 of  86\n"
     ]
    },
    {
     "name": "stderr",
     "output_type": "stream",
     "text": [
      "100%|██████████| 100/100 [01:08<00:00,  1.45it/s]\n"
     ]
    },
    {
     "name": "stdout",
     "output_type": "stream",
     "text": [
      "working on # 54 of  86\n"
     ]
    },
    {
     "name": "stderr",
     "output_type": "stream",
     "text": [
      "100%|██████████| 100/100 [01:06<00:00,  1.51it/s]\n"
     ]
    },
    {
     "name": "stdout",
     "output_type": "stream",
     "text": [
      "working on # 55 of  86\n"
     ]
    },
    {
     "name": "stderr",
     "output_type": "stream",
     "text": [
      "100%|██████████| 100/100 [01:11<00:00,  1.40it/s]\n"
     ]
    },
    {
     "name": "stdout",
     "output_type": "stream",
     "text": [
      "working on # 56 of  86\n"
     ]
    },
    {
     "name": "stderr",
     "output_type": "stream",
     "text": [
      "100%|██████████| 100/100 [01:14<00:00,  1.34it/s]\n"
     ]
    },
    {
     "name": "stdout",
     "output_type": "stream",
     "text": [
      "working on # 57 of  86\n"
     ]
    },
    {
     "name": "stderr",
     "output_type": "stream",
     "text": [
      "100%|██████████| 100/100 [01:23<00:00,  1.20it/s]\n"
     ]
    },
    {
     "name": "stdout",
     "output_type": "stream",
     "text": [
      "working on # 58 of  86\n"
     ]
    },
    {
     "name": "stderr",
     "output_type": "stream",
     "text": [
      "100%|██████████| 100/100 [01:37<00:00,  1.03it/s]\n"
     ]
    },
    {
     "name": "stdout",
     "output_type": "stream",
     "text": [
      "working on # 59 of  86\n"
     ]
    },
    {
     "name": "stderr",
     "output_type": "stream",
     "text": [
      "100%|██████████| 100/100 [01:54<00:00,  1.15s/it]\n"
     ]
    },
    {
     "name": "stdout",
     "output_type": "stream",
     "text": [
      "working on # 60 of  86\n"
     ]
    },
    {
     "name": "stderr",
     "output_type": "stream",
     "text": [
      "100%|██████████| 100/100 [01:39<00:00,  1.01it/s]\n"
     ]
    },
    {
     "name": "stdout",
     "output_type": "stream",
     "text": [
      "working on # 61 of  86\n"
     ]
    },
    {
     "name": "stderr",
     "output_type": "stream",
     "text": [
      "100%|██████████| 100/100 [01:16<00:00,  1.31it/s]\n"
     ]
    },
    {
     "name": "stdout",
     "output_type": "stream",
     "text": [
      "working on # 62 of  86\n"
     ]
    },
    {
     "name": "stderr",
     "output_type": "stream",
     "text": [
      "100%|██████████| 100/100 [01:08<00:00,  1.47it/s]\n"
     ]
    },
    {
     "name": "stdout",
     "output_type": "stream",
     "text": [
      "working on # 63 of  86\n"
     ]
    },
    {
     "name": "stderr",
     "output_type": "stream",
     "text": [
      "100%|██████████| 100/100 [01:05<00:00,  1.54it/s]\n"
     ]
    },
    {
     "name": "stdout",
     "output_type": "stream",
     "text": [
      "working on # 64 of  86\n"
     ]
    },
    {
     "name": "stderr",
     "output_type": "stream",
     "text": [
      "100%|██████████| 100/100 [01:16<00:00,  1.31it/s]\n"
     ]
    },
    {
     "name": "stdout",
     "output_type": "stream",
     "text": [
      "working on # 65 of  86\n"
     ]
    },
    {
     "name": "stderr",
     "output_type": "stream",
     "text": [
      "100%|██████████| 100/100 [01:41<00:00,  1.02s/it]\n"
     ]
    },
    {
     "name": "stdout",
     "output_type": "stream",
     "text": [
      "working on # 66 of  86\n"
     ]
    },
    {
     "name": "stderr",
     "output_type": "stream",
     "text": [
      "100%|██████████| 100/100 [01:21<00:00,  1.23it/s]\n"
     ]
    },
    {
     "name": "stdout",
     "output_type": "stream",
     "text": [
      "working on # 67 of  86\n"
     ]
    },
    {
     "name": "stderr",
     "output_type": "stream",
     "text": [
      "100%|██████████| 100/100 [01:08<00:00,  1.45it/s]\n"
     ]
    },
    {
     "name": "stdout",
     "output_type": "stream",
     "text": [
      "working on # 68 of  86\n"
     ]
    },
    {
     "name": "stderr",
     "output_type": "stream",
     "text": [
      "100%|██████████| 100/100 [01:05<00:00,  1.52it/s]\n"
     ]
    },
    {
     "name": "stdout",
     "output_type": "stream",
     "text": [
      "working on # 69 of  86\n"
     ]
    },
    {
     "name": "stderr",
     "output_type": "stream",
     "text": [
      "100%|██████████| 100/100 [01:17<00:00,  1.29it/s]\n"
     ]
    },
    {
     "name": "stdout",
     "output_type": "stream",
     "text": [
      "working on # 70 of  86\n"
     ]
    },
    {
     "name": "stderr",
     "output_type": "stream",
     "text": [
      "100%|██████████| 100/100 [01:03<00:00,  1.56it/s]\n"
     ]
    },
    {
     "name": "stdout",
     "output_type": "stream",
     "text": [
      "working on # 71 of  86\n"
     ]
    },
    {
     "name": "stderr",
     "output_type": "stream",
     "text": [
      "100%|██████████| 100/100 [02:16<00:00,  1.37s/it]\n"
     ]
    },
    {
     "name": "stdout",
     "output_type": "stream",
     "text": [
      "working on # 72 of  86\n"
     ]
    },
    {
     "name": "stderr",
     "output_type": "stream",
     "text": [
      "100%|██████████| 100/100 [01:30<00:00,  1.11it/s]\n"
     ]
    },
    {
     "name": "stdout",
     "output_type": "stream",
     "text": [
      "working on # 73 of  86\n"
     ]
    },
    {
     "name": "stderr",
     "output_type": "stream",
     "text": [
      "100%|██████████| 100/100 [01:08<00:00,  1.46it/s]\n"
     ]
    },
    {
     "name": "stdout",
     "output_type": "stream",
     "text": [
      "working on # 74 of  86\n"
     ]
    },
    {
     "name": "stderr",
     "output_type": "stream",
     "text": [
      "100%|██████████| 100/100 [01:04<00:00,  1.54it/s]\n"
     ]
    },
    {
     "name": "stdout",
     "output_type": "stream",
     "text": [
      "working on # 75 of  86\n"
     ]
    },
    {
     "name": "stderr",
     "output_type": "stream",
     "text": [
      "100%|██████████| 100/100 [01:07<00:00,  1.49it/s]\n"
     ]
    },
    {
     "name": "stdout",
     "output_type": "stream",
     "text": [
      "working on # 76 of  86\n"
     ]
    },
    {
     "name": "stderr",
     "output_type": "stream",
     "text": [
      "100%|██████████| 100/100 [01:16<00:00,  1.31it/s]\n"
     ]
    },
    {
     "name": "stdout",
     "output_type": "stream",
     "text": [
      "working on # 77 of  86\n"
     ]
    },
    {
     "name": "stderr",
     "output_type": "stream",
     "text": [
      "100%|██████████| 100/100 [01:09<00:00,  1.44it/s]\n"
     ]
    },
    {
     "name": "stdout",
     "output_type": "stream",
     "text": [
      "working on # 78 of  86\n"
     ]
    },
    {
     "name": "stderr",
     "output_type": "stream",
     "text": [
      "100%|██████████| 100/100 [01:07<00:00,  1.48it/s]\n"
     ]
    },
    {
     "name": "stdout",
     "output_type": "stream",
     "text": [
      "working on # 79 of  86\n"
     ]
    },
    {
     "name": "stderr",
     "output_type": "stream",
     "text": [
      "100%|██████████| 100/100 [01:05<00:00,  1.53it/s]\n"
     ]
    },
    {
     "name": "stdout",
     "output_type": "stream",
     "text": [
      "working on # 80 of  86\n"
     ]
    },
    {
     "name": "stderr",
     "output_type": "stream",
     "text": [
      "100%|██████████| 100/100 [01:09<00:00,  1.43it/s]\n"
     ]
    },
    {
     "name": "stdout",
     "output_type": "stream",
     "text": [
      "working on # 81 of  86\n"
     ]
    },
    {
     "name": "stderr",
     "output_type": "stream",
     "text": [
      "100%|██████████| 100/100 [02:16<00:00,  1.36s/it]\n"
     ]
    },
    {
     "name": "stdout",
     "output_type": "stream",
     "text": [
      "working on # 82 of  86\n"
     ]
    },
    {
     "name": "stderr",
     "output_type": "stream",
     "text": [
      "100%|██████████| 100/100 [01:17<00:00,  1.29it/s]\n"
     ]
    },
    {
     "name": "stdout",
     "output_type": "stream",
     "text": [
      "working on # 83 of  86\n"
     ]
    },
    {
     "name": "stderr",
     "output_type": "stream",
     "text": [
      "100%|██████████| 100/100 [01:35<00:00,  1.04it/s]\n"
     ]
    },
    {
     "name": "stdout",
     "output_type": "stream",
     "text": [
      "working on # 84 of  86\n"
     ]
    },
    {
     "name": "stderr",
     "output_type": "stream",
     "text": [
      "100%|██████████| 100/100 [01:51<00:00,  1.12s/it]\n"
     ]
    },
    {
     "name": "stdout",
     "output_type": "stream",
     "text": [
      "working on # 85 of  86\n"
     ]
    },
    {
     "name": "stderr",
     "output_type": "stream",
     "text": [
      "100%|██████████| 100/100 [01:05<00:00,  1.52it/s]\n"
     ]
    },
    {
     "name": "stdout",
     "output_type": "stream",
     "text": [
      "working on # 86 of  86\n"
     ]
    },
    {
     "name": "stderr",
     "output_type": "stream",
     "text": [
      "100%|██████████| 100/100 [01:11<00:00,  1.41it/s]\n"
     ]
    }
   ],
   "source": [
    "p = .9\n",
    "N = 100\n",
    "save_name = '/home/tnguser/postprocessing/uncertainties/neil_angles/'\n",
    "\n",
    "for subfindID in tqdm(final_diskyIDs):\n",
    "    GrNr = (il.groupcat.loadSingle(basePath, 99, subhaloID=subfindID)['SubhaloGrNr'])\n",
    "    principal_file = principal_path + 'GrNr_%d_snap_%d_99_principal_axes_full.npy'%(GrNr,75)\n",
    "    principal_axes = np.load(principal_file,allow_pickle=True)\n",
    "\n",
    "    snapArr,zArr = snapshot_redshift_corr(basePath)\n",
    "\n",
    "    haloTree = il.lhalotree.loadTree(basePath,99,subfindID,\n",
    "                 fields=['SubhaloGrNr','SnapNum','Group_R_Crit200','SubhaloPos','SubhaloNumber','SubhaloHalfmassRadType'], \n",
    "                 onlyMPB=True)\n",
    "\n",
    "    haloInd,mpb_snapArr = haloTree['SubhaloGrNr'], haloTree['SnapNum']\n",
    "    subfindID = haloTree['SubhaloNumber']\n",
    "    Rvirial   = haloTree['Group_R_Crit200']\n",
    "    subhaloPos = haloTree['SubhaloPos']\n",
    "    halfmassrad = haloTree['SubhaloHalfmassRadType']\n",
    "\n",
    "    thetas = []\n",
    "    phis = []\n",
    "\n",
    "    for i in tqdm(np.arange(N)):\n",
    "\n",
    "        spins = []\n",
    "\n",
    "        for snap in (range(75,100)):\n",
    "\n",
    "            GrNr_i       = value(haloInd[snap == mpb_snapArr])\n",
    "            subfindID_i  = value(subfindID[snap == mpb_snapArr])\n",
    "            Rvirial_i    = value(Rvirial[snap == mpb_snapArr])\n",
    "            subhaloPos_i = value(subhaloPos[snap == mpb_snapArr])\n",
    "            a = 1/(1+value(zArr[snap==snapArr]))\n",
    "            halfmassrad_i = value(halfmassrad[snap == mpb_snapArr])[4]*a\n",
    "\n",
    "            starPos = il.snapshot.loadSubhalo(basePath,snap,subfindID_i,4,fields='Coordinates')\n",
    "            starVel = il.snapshot.loadSubhalo(basePath,snap,subfindID_i,4,fields='Velocities')\n",
    "            starMass = il.snapshot.loadSubhalo(basePath,snap,subfindID_i,4,fields='Masses') \n",
    "\n",
    "            # following Neil's method, but only using stars (not gas or DM)\n",
    "            if (type(starPos) is not dict):\n",
    "                particleCoords_bar  = starPos\n",
    "                particleVels_bar    = starVel\n",
    "                particleMass_bar    = starMass * 1e10\n",
    "            else:\n",
    "            # no stars in the halo\n",
    "                print(\"ERROR: no stars in halo.\")\n",
    "                particleCoords_bar  = np.array([[np.nan,np.nan,np.nan]])\n",
    "                particleVels_bar    = np.array([[np.nan,np.nan,np.nan]])\n",
    "                particleMass_bar    = np.array([np.nan])\n",
    "\n",
    "            ########################################################################\n",
    "            # check that the halo is not crossing the box boundary, correct if it is\n",
    "            # condition is whether it is within 2 virial radii\n",
    "            passUpperBound = subhaloPos_i + 2*Rvirial_i >= 35000\n",
    "            passLowerBound = subhaloPos_i - 2*Rvirial_i <= 0\n",
    "\n",
    "            if any(passUpperBound):\n",
    "            # shift the particles\n",
    "                particleCoords_bar[:,passUpperBound] = particleCoords_bar[:,passUpperBound] - 35000/2\n",
    "                subhaloPos_i[passUpperBound] = subhaloPos_i[passUpperBound] - 35000/2\n",
    "            #reinforce boundary condition\n",
    "            ind_bar = np.where(particleCoords_bar[:,passUpperBound]<0)[0]\n",
    "            particleCoords_bar[ind_bar,passUpperBound] = particleCoords_bar[ind_bar,passUpperBound] + 35000\n",
    "\n",
    "            if any(passLowerBound):\n",
    "                particleCoords_bar[:,passLowerBound] = particleCoords_bar[:,passLowerBound] + 35000/2 \n",
    "                subhaloPos_i[passLowerBound] = subhaloPos_i[passLowerBound] + 35000/2\n",
    "\n",
    "            ind_bar = np.where(particleCoords_bar[:,passLowerBound]>35000)[0]\n",
    "            particleCoords_bar[ind_bar,passLowerBound] = particleCoords_bar[ind_bar,passLowerBound] - 35000\n",
    "            ########################################################################\n",
    "\n",
    "            # center coords on subhalo pos\n",
    "            particleCoords_bar = (particleCoords_bar - subhaloPos_i)*a\n",
    "            # find relative velocities - shouldn't have done this, instead use the spin by TNG (includes DM)\n",
    "            paricleVels_bar = (particleVels_bar - np.mean(particleVels_bar,axis=0)) * np.sqrt(a) # km/s\n",
    "\n",
    "            snapshot_spins = []\n",
    "            innerRad = 0\n",
    "            outerRad = halfmassrad_i\n",
    "\n",
    "            r_bar = np.sqrt(np.sum(particleCoords_bar**2,axis=1))\n",
    "            indsInBounds = np.where((r_bar>innerRad)&(r_bar<=outerRad))[0]        \n",
    "\n",
    "            # Choosing p percent of samples with repetition\n",
    "            num_data = len(indsInBounds)\n",
    "            num_samples = int(p * num_data)\n",
    "            random_indices = (np.random.randint(0,num_data,size=num_samples))\n",
    "            bootstrap_inds = np.array(indsInBounds)[random_indices.astype(int)]\n",
    "\n",
    "            # Choosing p percent of samples with repetition\n",
    "\n",
    "            J_bar = np.sum(particleMass_bar[bootstrap_inds].reshape(-1,1)*np.cross(particleCoords_bar[bootstrap_inds],\n",
    "                                                                                particleVels_bar[bootstrap_inds]),axis=0) \n",
    "            spins.append(make_unit(J_bar))\n",
    "\n",
    "        spins = np.array(spins)\n",
    "\n",
    "        disk_theta = RotateForPolarPlot(spins,principal_axes,close_to_unit_thresh=1e-4,useMajorAxis=False)[0][0]\n",
    "        disk_phi = RotateForPolarPlot(spins,principal_axes,close_to_unit_thresh=1e-4,useMajorAxis=False)[0][1]\n",
    "\n",
    "        thetas.append(disk_theta)\n",
    "        phis.append(disk_phi)\n",
    "\n",
    "    theta_mean = np.mean(thetas,0)\n",
    "    theta_std = np.std(thetas,0)\n",
    "\n",
    "    phi_mean = np.mean(phis,0)\n",
    "    phi_std = np.std(phis,0)\n",
    "\n",
    "    np.save(save_name+'GrNr_%d_snap_%d_99_lambda_theta.npy'%(GrNr,75),thetas,allow_pickle=True)    \n",
    "    np.save(save_name+'GrNr_%d_snap_%d_99_lambda_phi.npy'%(GrNr,75),phis,allow_pickle=True)\n",
    "\n",
    "    np.save(save_name+'GrNr_%d_snap_%d_99_lambda_theta_mean.npy'%(GrNr,75),theta_mean,allow_pickle=True)    \n",
    "    np.save(save_name+'GrNr_%d_snap_%d_99_lambda_phi_mean.npy'%(GrNr,75),phi_mean,allow_pickle=True)\n",
    "\n",
    "    np.save(save_name+'GrNr_%d_snap_%d_99_lambda_theta_std.npy'%(GrNr,75),theta_std,allow_pickle=True)    \n",
    "    np.save(save_name+'GrNr_%d_snap_%d_99_lambda_phi_std.npy'%(GrNr,75),phi_std,allow_pickle=True)"
   ]
  },
  {
   "cell_type": "code",
   "execution_count": 10,
   "id": "a40e0b65-a276-4084-82d5-65dd557004cb",
   "metadata": {
    "tags": []
   },
   "outputs": [
    {
     "name": "stdout",
     "output_type": "stream",
     "text": [
      "working on # 1 of  23\n"
     ]
    },
    {
     "name": "stderr",
     "output_type": "stream",
     "text": [
      "100%|██████████| 25/25 [00:34<00:00,  1.39s/it]\n"
     ]
    },
    {
     "name": "stdout",
     "output_type": "stream",
     "text": [
      "working on # 2 of  23\n"
     ]
    },
    {
     "name": "stderr",
     "output_type": "stream",
     "text": [
      "100%|██████████| 25/25 [01:27<00:00,  3.49s/it]\n"
     ]
    },
    {
     "name": "stdout",
     "output_type": "stream",
     "text": [
      "working on # 3 of  23\n"
     ]
    },
    {
     "name": "stderr",
     "output_type": "stream",
     "text": [
      "100%|██████████| 25/25 [00:39<00:00,  1.60s/it]\n"
     ]
    },
    {
     "name": "stdout",
     "output_type": "stream",
     "text": [
      "working on # 4 of  23\n"
     ]
    },
    {
     "name": "stderr",
     "output_type": "stream",
     "text": [
      "100%|██████████| 25/25 [00:26<00:00,  1.08s/it]\n"
     ]
    },
    {
     "name": "stdout",
     "output_type": "stream",
     "text": [
      "working on # 5 of  23\n"
     ]
    },
    {
     "name": "stderr",
     "output_type": "stream",
     "text": [
      "100%|██████████| 25/25 [00:27<00:00,  1.08s/it]\n"
     ]
    },
    {
     "name": "stdout",
     "output_type": "stream",
     "text": [
      "working on # 6 of  23\n"
     ]
    },
    {
     "name": "stderr",
     "output_type": "stream",
     "text": [
      "100%|██████████| 25/25 [00:32<00:00,  1.31s/it]\n"
     ]
    },
    {
     "name": "stdout",
     "output_type": "stream",
     "text": [
      "working on # 7 of  23\n"
     ]
    },
    {
     "name": "stderr",
     "output_type": "stream",
     "text": [
      "100%|██████████| 25/25 [00:31<00:00,  1.27s/it]\n"
     ]
    },
    {
     "name": "stdout",
     "output_type": "stream",
     "text": [
      "working on # 8 of  23\n"
     ]
    },
    {
     "name": "stderr",
     "output_type": "stream",
     "text": [
      "100%|██████████| 25/25 [00:32<00:00,  1.28s/it]\n"
     ]
    },
    {
     "name": "stdout",
     "output_type": "stream",
     "text": [
      "working on # 9 of  23\n"
     ]
    },
    {
     "name": "stderr",
     "output_type": "stream",
     "text": [
      "100%|██████████| 25/25 [00:21<00:00,  1.14it/s]\n"
     ]
    },
    {
     "name": "stdout",
     "output_type": "stream",
     "text": [
      "working on # 10 of  23\n"
     ]
    },
    {
     "name": "stderr",
     "output_type": "stream",
     "text": [
      "100%|██████████| 25/25 [00:30<00:00,  1.21s/it]\n"
     ]
    },
    {
     "name": "stdout",
     "output_type": "stream",
     "text": [
      "working on # 11 of  23\n"
     ]
    },
    {
     "name": "stderr",
     "output_type": "stream",
     "text": [
      "100%|██████████| 25/25 [00:29<00:00,  1.18s/it]\n"
     ]
    },
    {
     "name": "stdout",
     "output_type": "stream",
     "text": [
      "working on # 12 of  23\n"
     ]
    },
    {
     "name": "stderr",
     "output_type": "stream",
     "text": [
      "100%|██████████| 25/25 [00:27<00:00,  1.12s/it]\n"
     ]
    },
    {
     "name": "stdout",
     "output_type": "stream",
     "text": [
      "working on # 13 of  23\n"
     ]
    },
    {
     "name": "stderr",
     "output_type": "stream",
     "text": [
      "100%|██████████| 25/25 [00:21<00:00,  1.18it/s]\n"
     ]
    },
    {
     "name": "stdout",
     "output_type": "stream",
     "text": [
      "working on # 14 of  23\n"
     ]
    },
    {
     "name": "stderr",
     "output_type": "stream",
     "text": [
      "100%|██████████| 25/25 [00:19<00:00,  1.29it/s]\n"
     ]
    },
    {
     "name": "stdout",
     "output_type": "stream",
     "text": [
      "working on # 15 of  23\n"
     ]
    },
    {
     "name": "stderr",
     "output_type": "stream",
     "text": [
      "100%|██████████| 25/25 [00:15<00:00,  1.61it/s]\n"
     ]
    },
    {
     "name": "stdout",
     "output_type": "stream",
     "text": [
      "working on # 16 of  23\n"
     ]
    },
    {
     "name": "stderr",
     "output_type": "stream",
     "text": [
      "100%|██████████| 25/25 [00:19<00:00,  1.29it/s]\n"
     ]
    },
    {
     "name": "stdout",
     "output_type": "stream",
     "text": [
      "working on # 17 of  23\n"
     ]
    },
    {
     "name": "stderr",
     "output_type": "stream",
     "text": [
      "100%|██████████| 25/25 [00:19<00:00,  1.28it/s]\n"
     ]
    },
    {
     "name": "stdout",
     "output_type": "stream",
     "text": [
      "working on # 18 of  23\n"
     ]
    },
    {
     "name": "stderr",
     "output_type": "stream",
     "text": [
      "100%|██████████| 25/25 [00:17<00:00,  1.46it/s]\n"
     ]
    },
    {
     "name": "stdout",
     "output_type": "stream",
     "text": [
      "working on # 19 of  23\n"
     ]
    },
    {
     "name": "stderr",
     "output_type": "stream",
     "text": [
      "100%|██████████| 25/25 [00:24<00:00,  1.03it/s]\n"
     ]
    },
    {
     "name": "stdout",
     "output_type": "stream",
     "text": [
      "working on # 20 of  23\n"
     ]
    },
    {
     "name": "stderr",
     "output_type": "stream",
     "text": [
      "100%|██████████| 25/25 [00:18<00:00,  1.35it/s]\n"
     ]
    },
    {
     "name": "stdout",
     "output_type": "stream",
     "text": [
      "working on # 21 of  23\n"
     ]
    },
    {
     "name": "stderr",
     "output_type": "stream",
     "text": [
      "100%|██████████| 25/25 [00:15<00:00,  1.57it/s]\n"
     ]
    },
    {
     "name": "stdout",
     "output_type": "stream",
     "text": [
      "working on # 22 of  23\n"
     ]
    },
    {
     "name": "stderr",
     "output_type": "stream",
     "text": [
      "100%|██████████| 25/25 [00:15<00:00,  1.63it/s]\n"
     ]
    },
    {
     "name": "stdout",
     "output_type": "stream",
     "text": [
      "working on # 23 of  23\n"
     ]
    },
    {
     "name": "stderr",
     "output_type": "stream",
     "text": [
      "100%|██████████| 25/25 [00:19<00:00,  1.30it/s]\n"
     ]
    }
   ],
   "source": [
    "p = .9\n",
    "N = 100\n",
    "save_name = '/home/tnguser/postprocessing/uncertainties/angles/'\n",
    "\n",
    "total = len(real_diskyIDs)\n",
    "num_completed = 1\n",
    "for subfindID in real_diskyIDs:\n",
    "    print(\"working on #\", num_completed, \"of \", total)\n",
    "\n",
    "    ### CODE IN COMMENTS ADAPTED FROM NEIL'S \"measure_halo_spin.py\", 75-99 non-tilted 3kpc ----------------------------------------------\n",
    "    ### ----------------------------------------------------------------------------------------------------------\n",
    "    GrNr = (il.groupcat.loadSingle(basePath, 99, subhaloID=subfindID)['SubhaloGrNr'])\n",
    "\n",
    "    snapArr,zArr = snapshot_redshift_corr(basePath)\n",
    "\n",
    "    haloTree = il.lhalotree.loadTree(basePath,99,subfindID,\n",
    "                         fields=['SubhaloGrNr','SnapNum','Group_R_Crit200','SubhaloPos','SubhaloNumber','SubhaloHalfmassRadType'], \n",
    "                         onlyMPB=True)\n",
    "\n",
    "    haloInd,mpb_snapArr = haloTree['SubhaloGrNr'], haloTree['SnapNum']\n",
    "    subfindID = haloTree['SubhaloNumber']\n",
    "    Rvirial   = haloTree['Group_R_Crit200']\n",
    "    subhaloPos = haloTree['SubhaloPos']\n",
    "    halfmassrad = haloTree['SubhaloHalfmassRadType']\n",
    "    angles_mean = []\n",
    "    angles_std = []\n",
    "    for snap in tqdm(range(75,100)):\n",
    "\n",
    "        GrNr_i       = value(haloInd[snap == mpb_snapArr])\n",
    "        subfindID_i  = value(subfindID[snap == mpb_snapArr])\n",
    "        Rvirial_i    = value(Rvirial[snap == mpb_snapArr])\n",
    "        subhaloPos_i = value(subhaloPos[snap == mpb_snapArr])\n",
    "        a = 1/(1+value(zArr[snap==snapArr]))\n",
    "        halfmassrad_i = value(halfmassrad[snap == mpb_snapArr])[4]*a\n",
    "\n",
    "        starPos = il.snapshot.loadSubhalo(basePath,snap,subfindID_i,4,fields='Coordinates')\n",
    "        starVel = il.snapshot.loadSubhalo(basePath,snap,subfindID_i,4,fields='Velocities')\n",
    "        starMass = il.snapshot.loadSubhalo(basePath,snap,subfindID_i,4,fields='Masses') \n",
    "\n",
    "        # following Neil's method, but only using stars (not gas or DM)\n",
    "        if (type(starPos) is not dict):\n",
    "            particleCoords_bar  = starPos\n",
    "            particleVels_bar    = starVel\n",
    "            particleMass_bar    = starMass * 1e10\n",
    "        else:\n",
    "            # no stars in the halo\n",
    "            print(\"ERROR: no stars in halo.\")\n",
    "            particleCoords_bar  = np.array([[np.nan,np.nan,np.nan]])\n",
    "            particleVels_bar    = np.array([[np.nan,np.nan,np.nan]])\n",
    "            particleMass_bar    = np.array([np.nan])\n",
    "\n",
    "        ########################################################################\n",
    "        # check that the halo is not crossing the box boundary, correct if it is\n",
    "        # condition is whether it is within 2 virial radii\n",
    "        passUpperBound = subhaloPos_i + 2*Rvirial_i >= 35000\n",
    "        passLowerBound = subhaloPos_i - 2*Rvirial_i <= 0\n",
    "\n",
    "        if any(passUpperBound):\n",
    "            # shift the particles\n",
    "            particleCoords_bar[:,passUpperBound] = particleCoords_bar[:,passUpperBound] - 35000/2\n",
    "            subhaloPos_i[passUpperBound] = subhaloPos_i[passUpperBound] - 35000/2\n",
    "            #reinforce boundary condition\n",
    "            ind_bar = np.where(particleCoords_bar[:,passUpperBound]<0)[0]\n",
    "            particleCoords_bar[ind_bar,passUpperBound] = particleCoords_bar[ind_bar,passUpperBound] + 35000\n",
    "\n",
    "        if any(passLowerBound):\n",
    "            particleCoords_bar[:,passLowerBound] = particleCoords_bar[:,passLowerBound] + 35000/2 \n",
    "            subhaloPos_i[passLowerBound] = subhaloPos_i[passLowerBound] + 35000/2\n",
    "\n",
    "            ind_bar = np.where(particleCoords_bar[:,passLowerBound]>35000)[0]\n",
    "            particleCoords_bar[ind_bar,passLowerBound] = particleCoords_bar[ind_bar,passLowerBound] - 35000\n",
    "        ########################################################################\n",
    "\n",
    "        # center coords on subhalo pos\n",
    "        particleCoords_bar = (particleCoords_bar - subhaloPos_i)*a\n",
    "        # find relative velocities - shouldn't have done this, instead use the spin by TNG (includes DM)\n",
    "        paricleVels_bar = (particleVels_bar - np.mean(particleVels_bar,axis=0)) * np.sqrt(a) # km/s\n",
    "\n",
    "        ### end Neil's code  -----------------------------------------------------------------------------------------\n",
    "        ### ----------------------------------------------------------------------------------------------------------\n",
    "        angles = []\n",
    "        innerRad = 0\n",
    "        outerRad = halfmassrad_i\n",
    "        for i in (np.arange(N)):\n",
    "            #        print(\"Working on bootstrap \", i+1, \" of \", N)\n",
    "\n",
    "            r_bar = np.sqrt(np.sum(particleCoords_bar**2,axis=1))\n",
    "            indsInBounds = np.where((r_bar>innerRad)&(r_bar<=outerRad))[0]        \n",
    "\n",
    "            # Choosing p percent of samples with repetition\n",
    "            num_data = len(indsInBounds)\n",
    "            num_samples = int(p * num_data)\n",
    "            random_indices = (np.random.randint(0,num_data,size=num_samples))\n",
    "            bootstrap_inds = np.array(indsInBounds)[random_indices.astype(int)]\n",
    "\n",
    "            J_bar = np.sum(particleMass_bar[bootstrap_inds].reshape(-1,1)*np.cross(particleCoords_bar[bootstrap_inds],\n",
    "                                                                                    particleVels_bar[bootstrap_inds]),axis=0) \n",
    "            pattern_file = pattern_path + 'GrNr_%d_snap_%d_99_patternSpeeds.npy'%(GrNr,75)\n",
    "            principal_file = principal_path + 'GrNr_%d_snap_%d_99_principal_axes_full.npy'%(GrNr,75)\n",
    "\n",
    "            # Must have angular momentum, pattern speeds, and principal axes calculations\n",
    "            if exists(pattern_file) and exists(principal_file):\n",
    "                pattern_info = np.load(pattern_file, allow_pickle=True)\n",
    "                pattern_info = dict(enumerate(pattern_info.flatten(),1))[1]\n",
    "                principal_axes = np.load(principal_file,allow_pickle=True)\n",
    "            L_spin = make_unit(J_bar)\n",
    "\n",
    "            raxis = np.dot(principal_axes[snap-75], getRotationAxis((snap-75), pattern_info['startStop'], pattern_info['Raxis']))\n",
    "            angle = np.degrees(np.arccos(np.abs(np.dot(raxis, L_spin))))\n",
    "\n",
    "            if angle >= 45:\n",
    "                angle = 90 - angle\n",
    "            angles.append(angle)\n",
    "\n",
    "        angles_mean.append(np.mean(angles))\n",
    "        angles_std.append(np.std(angles))\n",
    "\n",
    "    temp = save_name+'GrNr_%d_snap_%d_99_RaxisLaxis_L_angle_std.npy'%(GrNr,75)\n",
    "    np.save(temp,angles_std,allow_pickle=True)\n",
    "    num_completed = (num_completed + 1)"
   ]
  },
  {
   "cell_type": "code",
   "execution_count": 15,
   "id": "dd9a249f-565b-4cd0-9b4a-c35a2e43c5db",
   "metadata": {
    "tags": []
   },
   "outputs": [
    {
     "name": "stdout",
     "output_type": "stream",
     "text": [
      "working on # 1 of  86\n"
     ]
    },
    {
     "name": "stderr",
     "output_type": "stream",
     "text": [
      "100%|██████████| 25/25 [01:14<00:00,  2.99s/it]\n"
     ]
    },
    {
     "name": "stdout",
     "output_type": "stream",
     "text": [
      "working on # 2 of  86\n"
     ]
    },
    {
     "name": "stderr",
     "output_type": "stream",
     "text": [
      "100%|██████████| 25/25 [01:08<00:00,  2.73s/it]\n"
     ]
    },
    {
     "name": "stdout",
     "output_type": "stream",
     "text": [
      "working on # 3 of  86\n"
     ]
    },
    {
     "name": "stderr",
     "output_type": "stream",
     "text": [
      "100%|██████████| 25/25 [01:23<00:00,  3.35s/it]\n"
     ]
    },
    {
     "name": "stdout",
     "output_type": "stream",
     "text": [
      "working on # 4 of  86\n"
     ]
    },
    {
     "name": "stderr",
     "output_type": "stream",
     "text": [
      "100%|██████████| 25/25 [00:39<00:00,  1.58s/it]\n"
     ]
    },
    {
     "name": "stdout",
     "output_type": "stream",
     "text": [
      "working on # 5 of  86\n"
     ]
    },
    {
     "name": "stderr",
     "output_type": "stream",
     "text": [
      "100%|██████████| 25/25 [00:47<00:00,  1.89s/it]\n"
     ]
    },
    {
     "name": "stdout",
     "output_type": "stream",
     "text": [
      "working on # 6 of  86\n"
     ]
    },
    {
     "name": "stderr",
     "output_type": "stream",
     "text": [
      "100%|██████████| 25/25 [00:45<00:00,  1.81s/it]\n"
     ]
    },
    {
     "name": "stdout",
     "output_type": "stream",
     "text": [
      "working on # 7 of  86\n"
     ]
    },
    {
     "name": "stderr",
     "output_type": "stream",
     "text": [
      "100%|██████████| 25/25 [00:37<00:00,  1.52s/it]\n"
     ]
    },
    {
     "name": "stdout",
     "output_type": "stream",
     "text": [
      "working on # 8 of  86\n"
     ]
    },
    {
     "name": "stderr",
     "output_type": "stream",
     "text": [
      "100%|██████████| 25/25 [00:34<00:00,  1.37s/it]\n"
     ]
    },
    {
     "name": "stdout",
     "output_type": "stream",
     "text": [
      "working on # 9 of  86\n"
     ]
    },
    {
     "name": "stderr",
     "output_type": "stream",
     "text": [
      "100%|██████████| 25/25 [00:29<00:00,  1.17s/it]\n"
     ]
    },
    {
     "name": "stdout",
     "output_type": "stream",
     "text": [
      "working on # 10 of  86\n"
     ]
    },
    {
     "name": "stderr",
     "output_type": "stream",
     "text": [
      "100%|██████████| 25/25 [00:38<00:00,  1.55s/it]\n"
     ]
    },
    {
     "name": "stdout",
     "output_type": "stream",
     "text": [
      "working on # 11 of  86\n"
     ]
    },
    {
     "name": "stderr",
     "output_type": "stream",
     "text": [
      "100%|██████████| 25/25 [00:30<00:00,  1.20s/it]\n"
     ]
    },
    {
     "name": "stdout",
     "output_type": "stream",
     "text": [
      "working on # 12 of  86\n"
     ]
    },
    {
     "name": "stderr",
     "output_type": "stream",
     "text": [
      "100%|██████████| 25/25 [00:43<00:00,  1.75s/it]\n"
     ]
    },
    {
     "name": "stdout",
     "output_type": "stream",
     "text": [
      "working on # 13 of  86\n"
     ]
    },
    {
     "name": "stderr",
     "output_type": "stream",
     "text": [
      "100%|██████████| 25/25 [00:30<00:00,  1.22s/it]\n"
     ]
    },
    {
     "name": "stdout",
     "output_type": "stream",
     "text": [
      "working on # 14 of  86\n"
     ]
    },
    {
     "name": "stderr",
     "output_type": "stream",
     "text": [
      "100%|██████████| 25/25 [00:35<00:00,  1.43s/it]\n"
     ]
    },
    {
     "name": "stdout",
     "output_type": "stream",
     "text": [
      "working on # 15 of  86\n"
     ]
    },
    {
     "name": "stderr",
     "output_type": "stream",
     "text": [
      "100%|██████████| 25/25 [00:31<00:00,  1.26s/it]\n"
     ]
    },
    {
     "name": "stdout",
     "output_type": "stream",
     "text": [
      "working on # 16 of  86\n"
     ]
    },
    {
     "name": "stderr",
     "output_type": "stream",
     "text": [
      "100%|██████████| 25/25 [00:25<00:00,  1.02s/it]\n"
     ]
    },
    {
     "name": "stdout",
     "output_type": "stream",
     "text": [
      "working on # 17 of  86\n"
     ]
    },
    {
     "name": "stderr",
     "output_type": "stream",
     "text": [
      "100%|██████████| 25/25 [00:33<00:00,  1.33s/it]\n"
     ]
    },
    {
     "name": "stdout",
     "output_type": "stream",
     "text": [
      "working on # 18 of  86\n"
     ]
    },
    {
     "name": "stderr",
     "output_type": "stream",
     "text": [
      "100%|██████████| 25/25 [00:30<00:00,  1.22s/it]\n"
     ]
    },
    {
     "name": "stdout",
     "output_type": "stream",
     "text": [
      "working on # 19 of  86\n"
     ]
    },
    {
     "name": "stderr",
     "output_type": "stream",
     "text": [
      "100%|██████████| 25/25 [00:31<00:00,  1.25s/it]\n"
     ]
    },
    {
     "name": "stdout",
     "output_type": "stream",
     "text": [
      "working on # 20 of  86\n"
     ]
    },
    {
     "name": "stderr",
     "output_type": "stream",
     "text": [
      "100%|██████████| 25/25 [00:29<00:00,  1.19s/it]\n"
     ]
    },
    {
     "name": "stdout",
     "output_type": "stream",
     "text": [
      "working on # 21 of  86\n"
     ]
    },
    {
     "name": "stderr",
     "output_type": "stream",
     "text": [
      "100%|██████████| 25/25 [00:30<00:00,  1.23s/it]\n"
     ]
    },
    {
     "name": "stdout",
     "output_type": "stream",
     "text": [
      "working on # 22 of  86\n"
     ]
    },
    {
     "name": "stderr",
     "output_type": "stream",
     "text": [
      "100%|██████████| 25/25 [00:22<00:00,  1.09it/s]\n"
     ]
    },
    {
     "name": "stdout",
     "output_type": "stream",
     "text": [
      "working on # 23 of  86\n"
     ]
    },
    {
     "name": "stderr",
     "output_type": "stream",
     "text": [
      "100%|██████████| 25/25 [00:21<00:00,  1.15it/s]\n"
     ]
    },
    {
     "name": "stdout",
     "output_type": "stream",
     "text": [
      "working on # 24 of  86\n"
     ]
    },
    {
     "name": "stderr",
     "output_type": "stream",
     "text": [
      "100%|██████████| 25/25 [00:28<00:00,  1.13s/it]\n"
     ]
    },
    {
     "name": "stdout",
     "output_type": "stream",
     "text": [
      "working on # 25 of  86\n"
     ]
    },
    {
     "name": "stderr",
     "output_type": "stream",
     "text": [
      "100%|██████████| 25/25 [01:38<00:00,  3.92s/it]\n"
     ]
    },
    {
     "name": "stdout",
     "output_type": "stream",
     "text": [
      "working on # 26 of  86\n"
     ]
    },
    {
     "name": "stderr",
     "output_type": "stream",
     "text": [
      "100%|██████████| 25/25 [00:20<00:00,  1.23it/s]\n"
     ]
    },
    {
     "name": "stdout",
     "output_type": "stream",
     "text": [
      "working on # 27 of  86\n"
     ]
    },
    {
     "name": "stderr",
     "output_type": "stream",
     "text": [
      "100%|██████████| 25/25 [00:23<00:00,  1.07it/s]\n"
     ]
    },
    {
     "name": "stdout",
     "output_type": "stream",
     "text": [
      "working on # 28 of  86\n"
     ]
    },
    {
     "name": "stderr",
     "output_type": "stream",
     "text": [
      "100%|██████████| 25/25 [00:21<00:00,  1.14it/s]\n"
     ]
    },
    {
     "name": "stdout",
     "output_type": "stream",
     "text": [
      "working on # 29 of  86\n"
     ]
    },
    {
     "name": "stderr",
     "output_type": "stream",
     "text": [
      "100%|██████████| 25/25 [00:18<00:00,  1.37it/s]\n"
     ]
    },
    {
     "name": "stdout",
     "output_type": "stream",
     "text": [
      "working on # 30 of  86\n"
     ]
    },
    {
     "name": "stderr",
     "output_type": "stream",
     "text": [
      "100%|██████████| 25/25 [00:17<00:00,  1.44it/s]\n"
     ]
    },
    {
     "name": "stdout",
     "output_type": "stream",
     "text": [
      "working on # 31 of  86\n"
     ]
    },
    {
     "name": "stderr",
     "output_type": "stream",
     "text": [
      "100%|██████████| 25/25 [00:22<00:00,  1.10it/s]\n"
     ]
    },
    {
     "name": "stdout",
     "output_type": "stream",
     "text": [
      "working on # 32 of  86\n"
     ]
    },
    {
     "name": "stderr",
     "output_type": "stream",
     "text": [
      "100%|██████████| 25/25 [00:19<00:00,  1.30it/s]\n"
     ]
    },
    {
     "name": "stdout",
     "output_type": "stream",
     "text": [
      "working on # 33 of  86\n"
     ]
    },
    {
     "name": "stderr",
     "output_type": "stream",
     "text": [
      "100%|██████████| 25/25 [00:14<00:00,  1.78it/s]\n"
     ]
    },
    {
     "name": "stdout",
     "output_type": "stream",
     "text": [
      "working on # 34 of  86\n"
     ]
    },
    {
     "name": "stderr",
     "output_type": "stream",
     "text": [
      "100%|██████████| 25/25 [00:18<00:00,  1.32it/s]\n"
     ]
    },
    {
     "name": "stdout",
     "output_type": "stream",
     "text": [
      "working on # 35 of  86\n"
     ]
    },
    {
     "name": "stderr",
     "output_type": "stream",
     "text": [
      "100%|██████████| 25/25 [00:16<00:00,  1.53it/s]\n"
     ]
    },
    {
     "name": "stdout",
     "output_type": "stream",
     "text": [
      "working on # 36 of  86\n"
     ]
    },
    {
     "name": "stderr",
     "output_type": "stream",
     "text": [
      "100%|██████████| 25/25 [00:14<00:00,  1.70it/s]\n"
     ]
    },
    {
     "name": "stdout",
     "output_type": "stream",
     "text": [
      "working on # 37 of  86\n"
     ]
    },
    {
     "name": "stderr",
     "output_type": "stream",
     "text": [
      "100%|██████████| 25/25 [00:20<00:00,  1.22it/s]\n"
     ]
    },
    {
     "name": "stdout",
     "output_type": "stream",
     "text": [
      "working on # 38 of  86\n"
     ]
    },
    {
     "name": "stderr",
     "output_type": "stream",
     "text": [
      "100%|██████████| 25/25 [00:19<00:00,  1.31it/s]\n"
     ]
    },
    {
     "name": "stdout",
     "output_type": "stream",
     "text": [
      "working on # 39 of  86\n"
     ]
    },
    {
     "name": "stderr",
     "output_type": "stream",
     "text": [
      "100%|██████████| 25/25 [00:17<00:00,  1.46it/s]\n"
     ]
    },
    {
     "name": "stdout",
     "output_type": "stream",
     "text": [
      "working on # 40 of  86\n"
     ]
    },
    {
     "name": "stderr",
     "output_type": "stream",
     "text": [
      "100%|██████████| 25/25 [00:21<00:00,  1.18it/s]\n"
     ]
    },
    {
     "name": "stdout",
     "output_type": "stream",
     "text": [
      "working on # 41 of  86\n"
     ]
    },
    {
     "name": "stderr",
     "output_type": "stream",
     "text": [
      "100%|██████████| 25/25 [00:17<00:00,  1.44it/s]\n"
     ]
    },
    {
     "name": "stdout",
     "output_type": "stream",
     "text": [
      "working on # 42 of  86\n"
     ]
    },
    {
     "name": "stderr",
     "output_type": "stream",
     "text": [
      "100%|██████████| 25/25 [00:15<00:00,  1.60it/s]\n"
     ]
    },
    {
     "name": "stdout",
     "output_type": "stream",
     "text": [
      "working on # 43 of  86\n"
     ]
    },
    {
     "name": "stderr",
     "output_type": "stream",
     "text": [
      "100%|██████████| 25/25 [00:14<00:00,  1.76it/s]\n"
     ]
    },
    {
     "name": "stdout",
     "output_type": "stream",
     "text": [
      "working on # 44 of  86\n"
     ]
    },
    {
     "name": "stderr",
     "output_type": "stream",
     "text": [
      "100%|██████████| 25/25 [00:16<00:00,  1.54it/s]\n"
     ]
    },
    {
     "name": "stdout",
     "output_type": "stream",
     "text": [
      "working on # 45 of  86\n"
     ]
    },
    {
     "name": "stderr",
     "output_type": "stream",
     "text": [
      "100%|██████████| 25/25 [00:16<00:00,  1.51it/s]\n"
     ]
    },
    {
     "name": "stdout",
     "output_type": "stream",
     "text": [
      "working on # 46 of  86\n"
     ]
    },
    {
     "name": "stderr",
     "output_type": "stream",
     "text": [
      "100%|██████████| 25/25 [00:21<00:00,  1.17it/s]\n"
     ]
    },
    {
     "name": "stdout",
     "output_type": "stream",
     "text": [
      "working on # 47 of  86\n"
     ]
    },
    {
     "name": "stderr",
     "output_type": "stream",
     "text": [
      "100%|██████████| 25/25 [00:17<00:00,  1.39it/s]\n"
     ]
    },
    {
     "name": "stdout",
     "output_type": "stream",
     "text": [
      "working on # 48 of  86\n"
     ]
    },
    {
     "name": "stderr",
     "output_type": "stream",
     "text": [
      "100%|██████████| 25/25 [00:14<00:00,  1.69it/s]\n"
     ]
    },
    {
     "name": "stdout",
     "output_type": "stream",
     "text": [
      "working on # 49 of  86\n"
     ]
    },
    {
     "name": "stderr",
     "output_type": "stream",
     "text": [
      "100%|██████████| 25/25 [00:26<00:00,  1.04s/it]\n"
     ]
    },
    {
     "name": "stdout",
     "output_type": "stream",
     "text": [
      "working on # 50 of  86\n"
     ]
    },
    {
     "name": "stderr",
     "output_type": "stream",
     "text": [
      "100%|██████████| 25/25 [00:14<00:00,  1.68it/s]\n"
     ]
    },
    {
     "name": "stdout",
     "output_type": "stream",
     "text": [
      "working on # 51 of  86\n"
     ]
    },
    {
     "name": "stderr",
     "output_type": "stream",
     "text": [
      "100%|██████████| 25/25 [00:15<00:00,  1.66it/s]\n"
     ]
    },
    {
     "name": "stdout",
     "output_type": "stream",
     "text": [
      "working on # 52 of  86\n"
     ]
    },
    {
     "name": "stderr",
     "output_type": "stream",
     "text": [
      "100%|██████████| 25/25 [00:12<00:00,  2.01it/s]\n"
     ]
    },
    {
     "name": "stdout",
     "output_type": "stream",
     "text": [
      "working on # 53 of  86\n"
     ]
    },
    {
     "name": "stderr",
     "output_type": "stream",
     "text": [
      "100%|██████████| 25/25 [00:15<00:00,  1.61it/s]\n"
     ]
    },
    {
     "name": "stdout",
     "output_type": "stream",
     "text": [
      "working on # 54 of  86\n"
     ]
    },
    {
     "name": "stderr",
     "output_type": "stream",
     "text": [
      "100%|██████████| 25/25 [00:13<00:00,  1.83it/s]\n"
     ]
    },
    {
     "name": "stdout",
     "output_type": "stream",
     "text": [
      "working on # 55 of  86\n"
     ]
    },
    {
     "name": "stderr",
     "output_type": "stream",
     "text": [
      "100%|██████████| 25/25 [00:15<00:00,  1.61it/s]\n"
     ]
    },
    {
     "name": "stdout",
     "output_type": "stream",
     "text": [
      "working on # 56 of  86\n"
     ]
    },
    {
     "name": "stderr",
     "output_type": "stream",
     "text": [
      "100%|██████████| 25/25 [00:14<00:00,  1.76it/s]\n"
     ]
    },
    {
     "name": "stdout",
     "output_type": "stream",
     "text": [
      "working on # 57 of  86\n"
     ]
    },
    {
     "name": "stderr",
     "output_type": "stream",
     "text": [
      "100%|██████████| 25/25 [00:16<00:00,  1.48it/s]\n"
     ]
    },
    {
     "name": "stdout",
     "output_type": "stream",
     "text": [
      "working on # 58 of  86\n"
     ]
    },
    {
     "name": "stderr",
     "output_type": "stream",
     "text": [
      "100%|██████████| 25/25 [00:17<00:00,  1.44it/s]\n"
     ]
    },
    {
     "name": "stdout",
     "output_type": "stream",
     "text": [
      "working on # 59 of  86\n"
     ]
    },
    {
     "name": "stderr",
     "output_type": "stream",
     "text": [
      "100%|██████████| 25/25 [00:19<00:00,  1.27it/s]\n"
     ]
    },
    {
     "name": "stdout",
     "output_type": "stream",
     "text": [
      "working on # 60 of  86\n"
     ]
    },
    {
     "name": "stderr",
     "output_type": "stream",
     "text": [
      "100%|██████████| 25/25 [00:17<00:00,  1.47it/s]\n"
     ]
    },
    {
     "name": "stdout",
     "output_type": "stream",
     "text": [
      "working on # 61 of  86\n"
     ]
    },
    {
     "name": "stderr",
     "output_type": "stream",
     "text": [
      "100%|██████████| 25/25 [00:16<00:00,  1.52it/s]\n"
     ]
    },
    {
     "name": "stdout",
     "output_type": "stream",
     "text": [
      "working on # 62 of  86\n"
     ]
    },
    {
     "name": "stderr",
     "output_type": "stream",
     "text": [
      "100%|██████████| 25/25 [00:13<00:00,  1.81it/s]\n"
     ]
    },
    {
     "name": "stdout",
     "output_type": "stream",
     "text": [
      "working on # 63 of  86\n"
     ]
    },
    {
     "name": "stderr",
     "output_type": "stream",
     "text": [
      "100%|██████████| 25/25 [00:14<00:00,  1.74it/s]\n"
     ]
    },
    {
     "name": "stdout",
     "output_type": "stream",
     "text": [
      "working on # 64 of  86\n"
     ]
    },
    {
     "name": "stderr",
     "output_type": "stream",
     "text": [
      "100%|██████████| 25/25 [00:13<00:00,  1.86it/s]\n"
     ]
    },
    {
     "name": "stdout",
     "output_type": "stream",
     "text": [
      "working on # 65 of  86\n"
     ]
    },
    {
     "name": "stderr",
     "output_type": "stream",
     "text": [
      "100%|██████████| 25/25 [00:18<00:00,  1.34it/s]\n"
     ]
    },
    {
     "name": "stdout",
     "output_type": "stream",
     "text": [
      "working on # 66 of  86\n"
     ]
    },
    {
     "name": "stderr",
     "output_type": "stream",
     "text": [
      "100%|██████████| 25/25 [00:17<00:00,  1.44it/s]\n"
     ]
    },
    {
     "name": "stdout",
     "output_type": "stream",
     "text": [
      "working on # 67 of  86\n"
     ]
    },
    {
     "name": "stderr",
     "output_type": "stream",
     "text": [
      "100%|██████████| 25/25 [00:15<00:00,  1.67it/s]\n"
     ]
    },
    {
     "name": "stdout",
     "output_type": "stream",
     "text": [
      "working on # 68 of  86\n"
     ]
    },
    {
     "name": "stderr",
     "output_type": "stream",
     "text": [
      "100%|██████████| 25/25 [00:11<00:00,  2.22it/s]\n"
     ]
    },
    {
     "name": "stdout",
     "output_type": "stream",
     "text": [
      "working on # 69 of  86\n"
     ]
    },
    {
     "name": "stderr",
     "output_type": "stream",
     "text": [
      "100%|██████████| 25/25 [00:15<00:00,  1.62it/s]\n"
     ]
    },
    {
     "name": "stdout",
     "output_type": "stream",
     "text": [
      "working on # 70 of  86\n"
     ]
    },
    {
     "name": "stderr",
     "output_type": "stream",
     "text": [
      "100%|██████████| 25/25 [00:12<00:00,  1.96it/s]\n"
     ]
    },
    {
     "name": "stdout",
     "output_type": "stream",
     "text": [
      "working on # 71 of  86\n"
     ]
    },
    {
     "name": "stderr",
     "output_type": "stream",
     "text": [
      "100%|██████████| 25/25 [00:34<00:00,  1.40s/it]\n"
     ]
    },
    {
     "name": "stdout",
     "output_type": "stream",
     "text": [
      "working on # 72 of  86\n"
     ]
    },
    {
     "name": "stderr",
     "output_type": "stream",
     "text": [
      "100%|██████████| 25/25 [00:19<00:00,  1.27it/s]\n"
     ]
    },
    {
     "name": "stdout",
     "output_type": "stream",
     "text": [
      "working on # 73 of  86\n"
     ]
    },
    {
     "name": "stderr",
     "output_type": "stream",
     "text": [
      "100%|██████████| 25/25 [00:14<00:00,  1.72it/s]\n"
     ]
    },
    {
     "name": "stdout",
     "output_type": "stream",
     "text": [
      "working on # 74 of  86\n"
     ]
    },
    {
     "name": "stderr",
     "output_type": "stream",
     "text": [
      "100%|██████████| 25/25 [00:11<00:00,  2.25it/s]\n"
     ]
    },
    {
     "name": "stdout",
     "output_type": "stream",
     "text": [
      "working on # 75 of  86\n"
     ]
    },
    {
     "name": "stderr",
     "output_type": "stream",
     "text": [
      "100%|██████████| 25/25 [00:10<00:00,  2.34it/s]\n"
     ]
    },
    {
     "name": "stdout",
     "output_type": "stream",
     "text": [
      "working on # 76 of  86\n"
     ]
    },
    {
     "name": "stderr",
     "output_type": "stream",
     "text": [
      "100%|██████████| 25/25 [00:13<00:00,  1.90it/s]\n"
     ]
    },
    {
     "name": "stdout",
     "output_type": "stream",
     "text": [
      "working on # 77 of  86\n"
     ]
    },
    {
     "name": "stderr",
     "output_type": "stream",
     "text": [
      "100%|██████████| 25/25 [00:11<00:00,  2.25it/s]\n"
     ]
    },
    {
     "name": "stdout",
     "output_type": "stream",
     "text": [
      "working on # 78 of  86\n"
     ]
    },
    {
     "name": "stderr",
     "output_type": "stream",
     "text": [
      "100%|██████████| 25/25 [00:09<00:00,  2.71it/s]\n"
     ]
    },
    {
     "name": "stdout",
     "output_type": "stream",
     "text": [
      "working on # 79 of  86\n"
     ]
    },
    {
     "name": "stderr",
     "output_type": "stream",
     "text": [
      "100%|██████████| 25/25 [00:12<00:00,  1.97it/s]\n"
     ]
    },
    {
     "name": "stdout",
     "output_type": "stream",
     "text": [
      "working on # 80 of  86\n"
     ]
    },
    {
     "name": "stderr",
     "output_type": "stream",
     "text": [
      "100%|██████████| 25/25 [00:10<00:00,  2.42it/s]\n"
     ]
    },
    {
     "name": "stdout",
     "output_type": "stream",
     "text": [
      "working on # 81 of  86\n"
     ]
    },
    {
     "name": "stderr",
     "output_type": "stream",
     "text": [
      "100%|██████████| 25/25 [00:11<00:00,  2.21it/s]\n"
     ]
    },
    {
     "name": "stdout",
     "output_type": "stream",
     "text": [
      "working on # 82 of  86\n"
     ]
    },
    {
     "name": "stderr",
     "output_type": "stream",
     "text": [
      "100%|██████████| 25/25 [00:06<00:00,  3.70it/s]\n"
     ]
    },
    {
     "name": "stdout",
     "output_type": "stream",
     "text": [
      "working on # 83 of  86\n"
     ]
    },
    {
     "name": "stderr",
     "output_type": "stream",
     "text": [
      "100%|██████████| 25/25 [00:08<00:00,  2.92it/s]\n"
     ]
    },
    {
     "name": "stdout",
     "output_type": "stream",
     "text": [
      "working on # 84 of  86\n"
     ]
    },
    {
     "name": "stderr",
     "output_type": "stream",
     "text": [
      "100%|██████████| 25/25 [00:08<00:00,  2.86it/s]\n"
     ]
    },
    {
     "name": "stdout",
     "output_type": "stream",
     "text": [
      "working on # 85 of  86\n"
     ]
    },
    {
     "name": "stderr",
     "output_type": "stream",
     "text": [
      "100%|██████████| 25/25 [00:06<00:00,  4.08it/s]\n"
     ]
    },
    {
     "name": "stdout",
     "output_type": "stream",
     "text": [
      "working on # 86 of  86\n"
     ]
    },
    {
     "name": "stderr",
     "output_type": "stream",
     "text": [
      "100%|██████████| 25/25 [00:06<00:00,  3.94it/s]\n"
     ]
    }
   ],
   "source": [
    "p = .9\n",
    "N = 100\n",
    "#Let's calculate these according to half mass radius instead\n",
    "\n",
    "save_name = '/home/tnguser/postprocessing/uncertainties/angles/'\n",
    "\n",
    "total = len(rest_subfindIDs)\n",
    "num_completed = 1\n",
    "for subfindID in rest_subfindIDs:\n",
    "    print(\"working on #\", num_completed, \"of \", total)\n",
    "\n",
    "    ### CODE IN COMMENTS ADAPTED FROM NEIL'S \"measure_halo_spin.py\", 75-99 non-tilted 3kpc ----------------------------------------------\n",
    "    ### ----------------------------------------------------------------------------------------------------------\n",
    "    GrNr = (il.groupcat.loadSingle(basePath, 99, subhaloID=subfindID)['SubhaloGrNr'])\n",
    "\n",
    "    snapArr,zArr = snapshot_redshift_corr(basePath)\n",
    "\n",
    "    haloTree = il.lhalotree.loadTree(basePath,99,subfindID,\n",
    "                         fields=['SubhaloGrNr','SnapNum','Group_R_Crit200','SubhaloPos','SubhaloNumber','SubhaloHalfmassRadType'], \n",
    "                         onlyMPB=True)\n",
    "\n",
    "    haloInd,mpb_snapArr = haloTree['SubhaloGrNr'], haloTree['SnapNum']\n",
    "    subfindID = haloTree['SubhaloNumber']\n",
    "    Rvirial   = haloTree['Group_R_Crit200']\n",
    "    subhaloPos = haloTree['SubhaloPos']\n",
    "    halfmassrad = haloTree['SubhaloHalfmassRadType']\n",
    "    angles_mean = []\n",
    "    angles_std = []\n",
    "    for snap in tqdm(range(75,100)):\n",
    "\n",
    "        GrNr_i       = value(haloInd[snap == mpb_snapArr])\n",
    "        subfindID_i  = value(subfindID[snap == mpb_snapArr])\n",
    "        Rvirial_i    = value(Rvirial[snap == mpb_snapArr])\n",
    "        subhaloPos_i = value(subhaloPos[snap == mpb_snapArr])\n",
    "        a = 1/(1+value(zArr[snap==snapArr]))\n",
    "        halfmassrad_i = value(halfmassrad[snap == mpb_snapArr])[4]*a\n",
    "\n",
    "        starPos = il.snapshot.loadSubhalo(basePath,snap,subfindID_i,4,fields='Coordinates')\n",
    "        starVel = il.snapshot.loadSubhalo(basePath,snap,subfindID_i,4,fields='Velocities')\n",
    "        starMass = il.snapshot.loadSubhalo(basePath,snap,subfindID_i,4,fields='Masses') \n",
    "\n",
    "        # following Neil's method, but only using stars (not gas or DM)\n",
    "        if (type(starPos) is not dict):\n",
    "            particleCoords_bar  = starPos\n",
    "            particleVels_bar    = starVel\n",
    "            particleMass_bar    = starMass * 1e10\n",
    "        else:\n",
    "            # no stars in the halo\n",
    "            print(\"ERROR: no stars in halo.\")\n",
    "            particleCoords_bar  = np.array([[np.nan,np.nan,np.nan]])\n",
    "            particleVels_bar    = np.array([[np.nan,np.nan,np.nan]])\n",
    "            particleMass_bar    = np.array([np.nan])\n",
    "\n",
    "        ########################################################################\n",
    "        # check that the halo is not crossing the box boundary, correct if it is\n",
    "        # condition is whether it is within 2 virial radii\n",
    "        passUpperBound = subhaloPos_i + 2*Rvirial_i >= 35000\n",
    "        passLowerBound = subhaloPos_i - 2*Rvirial_i <= 0\n",
    "\n",
    "        if any(passUpperBound):\n",
    "            # shift the particles\n",
    "            particleCoords_bar[:,passUpperBound] = particleCoords_bar[:,passUpperBound] - 35000/2\n",
    "            subhaloPos_i[passUpperBound] = subhaloPos_i[passUpperBound] - 35000/2\n",
    "            #reinforce boundary condition\n",
    "            ind_bar = np.where(particleCoords_bar[:,passUpperBound]<0)[0]\n",
    "            particleCoords_bar[ind_bar,passUpperBound] = particleCoords_bar[ind_bar,passUpperBound] + 35000\n",
    "\n",
    "        if any(passLowerBound):\n",
    "            particleCoords_bar[:,passLowerBound] = particleCoords_bar[:,passLowerBound] + 35000/2 \n",
    "            subhaloPos_i[passLowerBound] = subhaloPos_i[passLowerBound] + 35000/2\n",
    "\n",
    "            ind_bar = np.where(particleCoords_bar[:,passLowerBound]>35000)[0]\n",
    "            particleCoords_bar[ind_bar,passLowerBound] = particleCoords_bar[ind_bar,passLowerBound] - 35000\n",
    "        ########################################################################\n",
    "\n",
    "        # center coords on subhalo pos\n",
    "        particleCoords_bar = (particleCoords_bar - subhaloPos_i)*a\n",
    "        # find relative velocities - shouldn't have done this, instead use the spin by TNG (includes DM)\n",
    "        paricleVels_bar = (particleVels_bar - np.mean(particleVels_bar,axis=0)) * np.sqrt(a) # km/s\n",
    "\n",
    "        ### end Neil's code  -----------------------------------------------------------------------------------------\n",
    "        ### ----------------------------------------------------------------------------------------------------------\n",
    "        angles = []\n",
    "        innerRad = 0\n",
    "        outerRad = halfmassrad_i\n",
    "        for i in (np.arange(N)):\n",
    "            #        print(\"Working on bootstrap \", i+1, \" of \", N)\n",
    "\n",
    "            r_bar = np.sqrt(np.sum(particleCoords_bar**2,axis=1))\n",
    "            indsInBounds = np.where((r_bar>innerRad)&(r_bar<=outerRad))[0]        \n",
    "\n",
    "            # Choosing p percent of samples with repetition\n",
    "            num_data = len(indsInBounds)\n",
    "            num_samples = int(p * num_data)\n",
    "            random_indices = (np.random.randint(0,num_data,size=num_samples))\n",
    "            bootstrap_inds = np.array(indsInBounds)[random_indices.astype(int)]\n",
    "\n",
    "            J_bar = np.sum(particleMass_bar[bootstrap_inds].reshape(-1,1)*np.cross(particleCoords_bar[bootstrap_inds],\n",
    "                                                                                    particleVels_bar[bootstrap_inds]),axis=0) \n",
    "            pattern_file = pattern_path + 'GrNr_%d_snap_%d_99_patternSpeeds.npy'%(GrNr,75)\n",
    "            principal_file = principal_path + 'GrNr_%d_snap_%d_99_principal_axes_full.npy'%(GrNr,75)\n",
    "\n",
    "            # Must have angular momentum, pattern speeds, and principal axes calculations\n",
    "            if exists(pattern_file) and exists(principal_file):\n",
    "                pattern_info = np.load(pattern_file, allow_pickle=True)\n",
    "                pattern_info = dict(enumerate(pattern_info.flatten(),1))[1]\n",
    "                principal_axes = np.load(principal_file,allow_pickle=True)\n",
    "            L_spin = make_unit(J_bar)\n",
    "\n",
    "            angle = np.degrees(np.arccos(np.abs(np.dot(principal_axes[snap-75][:,1], L_spin))))\n",
    "            angles.append(angle)\n",
    "\n",
    "        angles_mean.append(np.mean(angles))\n",
    "        angles_std.append(np.std(angles))\n",
    "\n",
    "    temp = save_name+'GrNr_%d_snap_%d_99_RaxisLaxis_x_angle_std.npy'%(GrNr,75)\n",
    "    np.save(temp,angles_std,allow_pickle=True)\n",
    "    num_completed = (num_completed + 1)"
   ]
  },
  {
   "cell_type": "code",
   "execution_count": 9,
   "id": "6d70c3d1-b00e-4392-9a0b-88550f23be8d",
   "metadata": {
    "tags": []
   },
   "outputs": [
    {
     "name": "stderr",
     "output_type": "stream",
     "text": [
      "  0%|          | 0/86 [00:00<?, ?it/s]"
     ]
    },
    {
     "name": "stdout",
     "output_type": "stream",
     "text": [
      "working on # 1 of  86\n"
     ]
    },
    {
     "name": "stderr",
     "output_type": "stream",
     "text": [
      "  1%|          | 1/86 [01:16<1:49:03, 76.99s/it]"
     ]
    },
    {
     "name": "stdout",
     "output_type": "stream",
     "text": [
      "working on # 2 of  86\n"
     ]
    },
    {
     "name": "stderr",
     "output_type": "stream",
     "text": [
      "  2%|▏         | 2/86 [02:22<1:38:27, 70.32s/it]"
     ]
    },
    {
     "name": "stdout",
     "output_type": "stream",
     "text": [
      "working on # 3 of  86\n"
     ]
    },
    {
     "name": "stderr",
     "output_type": "stream",
     "text": [
      "  3%|▎         | 3/86 [03:53<1:50:20, 79.76s/it]"
     ]
    },
    {
     "name": "stdout",
     "output_type": "stream",
     "text": [
      "working on # 4 of  86\n"
     ]
    },
    {
     "name": "stderr",
     "output_type": "stream",
     "text": [
      "  5%|▍         | 4/86 [04:33<1:27:18, 63.88s/it]"
     ]
    },
    {
     "name": "stdout",
     "output_type": "stream",
     "text": [
      "working on # 5 of  86\n"
     ]
    },
    {
     "name": "stderr",
     "output_type": "stream",
     "text": [
      "  6%|▌         | 5/86 [05:21<1:18:26, 58.11s/it]"
     ]
    },
    {
     "name": "stdout",
     "output_type": "stream",
     "text": [
      "working on # 6 of  86\n"
     ]
    },
    {
     "name": "stderr",
     "output_type": "stream",
     "text": [
      "  7%|▋         | 6/86 [06:11<1:14:05, 55.57s/it]"
     ]
    },
    {
     "name": "stdout",
     "output_type": "stream",
     "text": [
      "working on # 7 of  86\n"
     ]
    },
    {
     "name": "stderr",
     "output_type": "stream",
     "text": [
      "  8%|▊         | 7/86 [06:50<1:05:52, 50.03s/it]"
     ]
    },
    {
     "name": "stdout",
     "output_type": "stream",
     "text": [
      "working on # 8 of  86\n"
     ]
    },
    {
     "name": "stderr",
     "output_type": "stream",
     "text": [
      "  9%|▉         | 8/86 [07:27<59:37, 45.87s/it]  "
     ]
    },
    {
     "name": "stdout",
     "output_type": "stream",
     "text": [
      "working on # 9 of  86\n"
     ]
    },
    {
     "name": "stderr",
     "output_type": "stream",
     "text": [
      " 10%|█         | 9/86 [07:57<52:47, 41.13s/it]"
     ]
    },
    {
     "name": "stdout",
     "output_type": "stream",
     "text": [
      "working on # 10 of  86\n"
     ]
    },
    {
     "name": "stderr",
     "output_type": "stream",
     "text": [
      " 12%|█▏        | 10/86 [08:39<52:13, 41.22s/it]"
     ]
    },
    {
     "name": "stdout",
     "output_type": "stream",
     "text": [
      "working on # 11 of  86\n"
     ]
    },
    {
     "name": "stderr",
     "output_type": "stream",
     "text": [
      " 13%|█▎        | 11/86 [09:22<52:04, 41.67s/it]"
     ]
    },
    {
     "name": "stdout",
     "output_type": "stream",
     "text": [
      "working on # 12 of  86\n"
     ]
    },
    {
     "name": "stderr",
     "output_type": "stream",
     "text": [
      " 14%|█▍        | 12/86 [10:33<1:02:27, 50.64s/it]"
     ]
    },
    {
     "name": "stdout",
     "output_type": "stream",
     "text": [
      "working on # 13 of  86\n"
     ]
    },
    {
     "name": "stderr",
     "output_type": "stream",
     "text": [
      " 15%|█▌        | 13/86 [11:13<57:56, 47.62s/it]  "
     ]
    },
    {
     "name": "stdout",
     "output_type": "stream",
     "text": [
      "working on # 14 of  86\n"
     ]
    },
    {
     "name": "stderr",
     "output_type": "stream",
     "text": [
      " 16%|█▋        | 14/86 [11:58<56:08, 46.78s/it]"
     ]
    },
    {
     "name": "stdout",
     "output_type": "stream",
     "text": [
      "working on # 15 of  86\n"
     ]
    },
    {
     "name": "stderr",
     "output_type": "stream",
     "text": [
      " 17%|█▋        | 15/86 [12:44<55:04, 46.54s/it]"
     ]
    },
    {
     "name": "stdout",
     "output_type": "stream",
     "text": [
      "working on # 16 of  86\n"
     ]
    },
    {
     "name": "stderr",
     "output_type": "stream",
     "text": [
      " 19%|█▊        | 16/86 [13:23<51:30, 44.15s/it]"
     ]
    },
    {
     "name": "stdout",
     "output_type": "stream",
     "text": [
      "working on # 17 of  86\n"
     ]
    },
    {
     "name": "stderr",
     "output_type": "stream",
     "text": [
      " 20%|█▉        | 17/86 [14:11<52:02, 45.25s/it]"
     ]
    },
    {
     "name": "stdout",
     "output_type": "stream",
     "text": [
      "working on # 18 of  86\n"
     ]
    },
    {
     "name": "stderr",
     "output_type": "stream",
     "text": [
      " 21%|██        | 18/86 [15:06<54:47, 48.35s/it]"
     ]
    },
    {
     "name": "stdout",
     "output_type": "stream",
     "text": [
      "working on # 19 of  86\n"
     ]
    },
    {
     "name": "stderr",
     "output_type": "stream",
     "text": [
      " 22%|██▏       | 19/86 [16:04<57:16, 51.28s/it]"
     ]
    },
    {
     "name": "stdout",
     "output_type": "stream",
     "text": [
      "working on # 20 of  86\n"
     ]
    },
    {
     "name": "stderr",
     "output_type": "stream",
     "text": [
      " 23%|██▎       | 20/86 [16:44<52:28, 47.70s/it]"
     ]
    },
    {
     "name": "stdout",
     "output_type": "stream",
     "text": [
      "working on # 21 of  86\n"
     ]
    },
    {
     "name": "stderr",
     "output_type": "stream",
     "text": [
      " 24%|██▍       | 21/86 [17:25<49:38, 45.82s/it]"
     ]
    },
    {
     "name": "stdout",
     "output_type": "stream",
     "text": [
      "working on # 22 of  86\n"
     ]
    },
    {
     "name": "stderr",
     "output_type": "stream",
     "text": [
      " 26%|██▌       | 22/86 [17:57<44:22, 41.61s/it]"
     ]
    },
    {
     "name": "stdout",
     "output_type": "stream",
     "text": [
      "working on # 23 of  86\n"
     ]
    },
    {
     "name": "stderr",
     "output_type": "stream",
     "text": [
      " 27%|██▋       | 23/86 [18:31<41:12, 39.25s/it]"
     ]
    },
    {
     "name": "stdout",
     "output_type": "stream",
     "text": [
      "working on # 24 of  86\n"
     ]
    },
    {
     "name": "stderr",
     "output_type": "stream",
     "text": [
      " 28%|██▊       | 24/86 [18:59<37:16, 36.08s/it]"
     ]
    },
    {
     "name": "stdout",
     "output_type": "stream",
     "text": [
      "working on # 25 of  86\n"
     ]
    },
    {
     "name": "stderr",
     "output_type": "stream",
     "text": [
      " 29%|██▉       | 25/86 [20:42<56:58, 56.04s/it]"
     ]
    },
    {
     "name": "stdout",
     "output_type": "stream",
     "text": [
      "working on # 26 of  86\n"
     ]
    },
    {
     "name": "stderr",
     "output_type": "stream",
     "text": [
      " 30%|███       | 26/86 [21:11<48:02, 48.04s/it]"
     ]
    },
    {
     "name": "stdout",
     "output_type": "stream",
     "text": [
      "working on # 27 of  86\n"
     ]
    },
    {
     "name": "stderr",
     "output_type": "stream",
     "text": [
      " 31%|███▏      | 27/86 [21:38<40:51, 41.55s/it]"
     ]
    },
    {
     "name": "stdout",
     "output_type": "stream",
     "text": [
      "working on # 28 of  86\n"
     ]
    },
    {
     "name": "stderr",
     "output_type": "stream",
     "text": [
      " 33%|███▎      | 28/86 [22:02<35:02, 36.24s/it]"
     ]
    },
    {
     "name": "stdout",
     "output_type": "stream",
     "text": [
      "working on # 29 of  86\n"
     ]
    },
    {
     "name": "stderr",
     "output_type": "stream",
     "text": [
      " 34%|███▎      | 29/86 [22:23<30:10, 31.77s/it]"
     ]
    },
    {
     "name": "stdout",
     "output_type": "stream",
     "text": [
      "working on # 30 of  86\n"
     ]
    },
    {
     "name": "stderr",
     "output_type": "stream",
     "text": [
      " 35%|███▍      | 30/86 [22:50<28:27, 30.48s/it]"
     ]
    },
    {
     "name": "stdout",
     "output_type": "stream",
     "text": [
      "working on # 31 of  86\n"
     ]
    },
    {
     "name": "stderr",
     "output_type": "stream",
     "text": [
      " 36%|███▌      | 31/86 [23:27<29:41, 32.39s/it]"
     ]
    },
    {
     "name": "stdout",
     "output_type": "stream",
     "text": [
      "working on # 32 of  86\n"
     ]
    },
    {
     "name": "stderr",
     "output_type": "stream",
     "text": [
      " 37%|███▋      | 32/86 [23:57<28:26, 31.60s/it]"
     ]
    },
    {
     "name": "stdout",
     "output_type": "stream",
     "text": [
      "working on # 33 of  86\n"
     ]
    },
    {
     "name": "stderr",
     "output_type": "stream",
     "text": [
      " 38%|███▊      | 33/86 [24:18<25:01, 28.33s/it]"
     ]
    },
    {
     "name": "stdout",
     "output_type": "stream",
     "text": [
      "working on # 34 of  86\n"
     ]
    },
    {
     "name": "stderr",
     "output_type": "stream",
     "text": [
      " 40%|███▉      | 34/86 [24:45<24:21, 28.10s/it]"
     ]
    },
    {
     "name": "stdout",
     "output_type": "stream",
     "text": [
      "working on # 35 of  86\n"
     ]
    },
    {
     "name": "stderr",
     "output_type": "stream",
     "text": [
      " 41%|████      | 35/86 [25:11<23:22, 27.50s/it]"
     ]
    },
    {
     "name": "stdout",
     "output_type": "stream",
     "text": [
      "working on # 36 of  86\n"
     ]
    },
    {
     "name": "stderr",
     "output_type": "stream",
     "text": [
      " 42%|████▏     | 36/86 [25:35<22:03, 26.46s/it]"
     ]
    },
    {
     "name": "stdout",
     "output_type": "stream",
     "text": [
      "working on # 37 of  86\n"
     ]
    },
    {
     "name": "stderr",
     "output_type": "stream",
     "text": [
      " 43%|████▎     | 37/86 [25:57<20:30, 25.12s/it]"
     ]
    },
    {
     "name": "stdout",
     "output_type": "stream",
     "text": [
      "working on # 38 of  86\n"
     ]
    },
    {
     "name": "stderr",
     "output_type": "stream",
     "text": [
      " 44%|████▍     | 38/86 [26:21<19:43, 24.65s/it]"
     ]
    },
    {
     "name": "stdout",
     "output_type": "stream",
     "text": [
      "working on # 39 of  86\n"
     ]
    },
    {
     "name": "stderr",
     "output_type": "stream",
     "text": [
      " 45%|████▌     | 39/86 [26:45<19:17, 24.62s/it]"
     ]
    },
    {
     "name": "stdout",
     "output_type": "stream",
     "text": [
      "working on # 40 of  86\n"
     ]
    },
    {
     "name": "stderr",
     "output_type": "stream",
     "text": [
      " 47%|████▋     | 40/86 [27:21<21:27, 28.00s/it]"
     ]
    },
    {
     "name": "stdout",
     "output_type": "stream",
     "text": [
      "working on # 41 of  86\n"
     ]
    },
    {
     "name": "stderr",
     "output_type": "stream",
     "text": [
      " 48%|████▊     | 41/86 [27:45<20:00, 26.67s/it]"
     ]
    },
    {
     "name": "stdout",
     "output_type": "stream",
     "text": [
      "working on # 42 of  86\n"
     ]
    },
    {
     "name": "stderr",
     "output_type": "stream",
     "text": [
      " 49%|████▉     | 42/86 [28:07<18:36, 25.37s/it]"
     ]
    },
    {
     "name": "stdout",
     "output_type": "stream",
     "text": [
      "working on # 43 of  86\n"
     ]
    },
    {
     "name": "stderr",
     "output_type": "stream",
     "text": [
      " 50%|█████     | 43/86 [28:28<17:05, 23.84s/it]"
     ]
    },
    {
     "name": "stdout",
     "output_type": "stream",
     "text": [
      "working on # 44 of  86\n"
     ]
    },
    {
     "name": "stderr",
     "output_type": "stream",
     "text": [
      " 51%|█████     | 44/86 [28:51<16:31, 23.62s/it]"
     ]
    },
    {
     "name": "stdout",
     "output_type": "stream",
     "text": [
      "working on # 45 of  86\n"
     ]
    },
    {
     "name": "stderr",
     "output_type": "stream",
     "text": [
      " 52%|█████▏    | 45/86 [29:12<15:40, 22.94s/it]"
     ]
    },
    {
     "name": "stdout",
     "output_type": "stream",
     "text": [
      "working on # 46 of  86\n"
     ]
    },
    {
     "name": "stderr",
     "output_type": "stream",
     "text": [
      " 53%|█████▎    | 46/86 [29:41<16:35, 24.89s/it]"
     ]
    },
    {
     "name": "stdout",
     "output_type": "stream",
     "text": [
      "working on # 47 of  86\n"
     ]
    },
    {
     "name": "stderr",
     "output_type": "stream",
     "text": [
      " 55%|█████▍    | 47/86 [30:07<16:18, 25.10s/it]"
     ]
    },
    {
     "name": "stdout",
     "output_type": "stream",
     "text": [
      "working on # 48 of  86\n"
     ]
    },
    {
     "name": "stderr",
     "output_type": "stream",
     "text": [
      " 56%|█████▌    | 48/86 [30:25<14:34, 23.01s/it]"
     ]
    },
    {
     "name": "stdout",
     "output_type": "stream",
     "text": [
      "working on # 49 of  86\n"
     ]
    },
    {
     "name": "stderr",
     "output_type": "stream",
     "text": [
      " 57%|█████▋    | 49/86 [31:03<16:55, 27.44s/it]"
     ]
    },
    {
     "name": "stdout",
     "output_type": "stream",
     "text": [
      "working on # 50 of  86\n"
     ]
    },
    {
     "name": "stderr",
     "output_type": "stream",
     "text": [
      " 58%|█████▊    | 50/86 [31:25<15:31, 25.88s/it]"
     ]
    },
    {
     "name": "stdout",
     "output_type": "stream",
     "text": [
      "working on # 51 of  86\n"
     ]
    },
    {
     "name": "stderr",
     "output_type": "stream",
     "text": [
      " 59%|█████▉    | 51/86 [31:53<15:27, 26.49s/it]"
     ]
    },
    {
     "name": "stdout",
     "output_type": "stream",
     "text": [
      "working on # 52 of  86\n"
     ]
    },
    {
     "name": "stderr",
     "output_type": "stream",
     "text": [
      " 60%|██████    | 52/86 [32:12<13:45, 24.28s/it]"
     ]
    },
    {
     "name": "stdout",
     "output_type": "stream",
     "text": [
      "working on # 53 of  86\n"
     ]
    },
    {
     "name": "stderr",
     "output_type": "stream",
     "text": [
      " 62%|██████▏   | 53/86 [32:45<14:47, 26.89s/it]"
     ]
    },
    {
     "name": "stdout",
     "output_type": "stream",
     "text": [
      "working on # 54 of  86\n"
     ]
    },
    {
     "name": "stderr",
     "output_type": "stream",
     "text": [
      " 63%|██████▎   | 54/86 [33:06<13:18, 24.96s/it]"
     ]
    },
    {
     "name": "stdout",
     "output_type": "stream",
     "text": [
      "working on # 55 of  86\n"
     ]
    },
    {
     "name": "stderr",
     "output_type": "stream",
     "text": [
      " 64%|██████▍   | 55/86 [33:27<12:19, 23.85s/it]"
     ]
    },
    {
     "name": "stdout",
     "output_type": "stream",
     "text": [
      "working on # 56 of  86\n"
     ]
    },
    {
     "name": "stderr",
     "output_type": "stream",
     "text": [
      " 65%|██████▌   | 56/86 [33:47<11:23, 22.80s/it]"
     ]
    },
    {
     "name": "stdout",
     "output_type": "stream",
     "text": [
      "working on # 57 of  86\n"
     ]
    },
    {
     "name": "stderr",
     "output_type": "stream",
     "text": [
      " 66%|██████▋   | 57/86 [34:08<10:41, 22.14s/it]"
     ]
    },
    {
     "name": "stdout",
     "output_type": "stream",
     "text": [
      "working on # 58 of  86\n"
     ]
    },
    {
     "name": "stderr",
     "output_type": "stream",
     "text": [
      " 67%|██████▋   | 58/86 [34:29<10:07, 21.71s/it]"
     ]
    },
    {
     "name": "stdout",
     "output_type": "stream",
     "text": [
      "working on # 59 of  86\n"
     ]
    },
    {
     "name": "stderr",
     "output_type": "stream",
     "text": [
      " 69%|██████▊   | 59/86 [34:51<09:54, 22.02s/it]"
     ]
    },
    {
     "name": "stdout",
     "output_type": "stream",
     "text": [
      "working on # 60 of  86\n"
     ]
    },
    {
     "name": "stderr",
     "output_type": "stream",
     "text": [
      " 70%|██████▉   | 60/86 [35:13<09:28, 21.85s/it]"
     ]
    },
    {
     "name": "stdout",
     "output_type": "stream",
     "text": [
      "working on # 61 of  86\n"
     ]
    },
    {
     "name": "stderr",
     "output_type": "stream",
     "text": [
      " 71%|███████   | 61/86 [35:33<08:57, 21.51s/it]"
     ]
    },
    {
     "name": "stdout",
     "output_type": "stream",
     "text": [
      "working on # 62 of  86\n"
     ]
    },
    {
     "name": "stderr",
     "output_type": "stream",
     "text": [
      " 72%|███████▏  | 62/86 [35:54<08:27, 21.16s/it]"
     ]
    },
    {
     "name": "stdout",
     "output_type": "stream",
     "text": [
      "working on # 63 of  86\n"
     ]
    },
    {
     "name": "stderr",
     "output_type": "stream",
     "text": [
      " 73%|███████▎  | 63/86 [36:24<09:10, 23.94s/it]"
     ]
    },
    {
     "name": "stdout",
     "output_type": "stream",
     "text": [
      "working on # 64 of  86\n"
     ]
    },
    {
     "name": "stderr",
     "output_type": "stream",
     "text": [
      " 74%|███████▍  | 64/86 [36:45<08:25, 23.00s/it]"
     ]
    },
    {
     "name": "stdout",
     "output_type": "stream",
     "text": [
      "working on # 65 of  86\n"
     ]
    },
    {
     "name": "stderr",
     "output_type": "stream",
     "text": [
      " 76%|███████▌  | 65/86 [37:12<08:28, 24.20s/it]"
     ]
    },
    {
     "name": "stdout",
     "output_type": "stream",
     "text": [
      "working on # 66 of  86\n"
     ]
    },
    {
     "name": "stderr",
     "output_type": "stream",
     "text": [
      " 77%|███████▋  | 66/86 [37:41<08:30, 25.53s/it]"
     ]
    },
    {
     "name": "stdout",
     "output_type": "stream",
     "text": [
      "working on # 67 of  86\n"
     ]
    },
    {
     "name": "stderr",
     "output_type": "stream",
     "text": [
      " 78%|███████▊  | 67/86 [38:03<07:46, 24.54s/it]"
     ]
    },
    {
     "name": "stdout",
     "output_type": "stream",
     "text": [
      "working on # 68 of  86\n"
     ]
    },
    {
     "name": "stderr",
     "output_type": "stream",
     "text": [
      " 79%|███████▉  | 68/86 [38:20<06:40, 22.27s/it]"
     ]
    },
    {
     "name": "stdout",
     "output_type": "stream",
     "text": [
      "working on # 69 of  86\n"
     ]
    },
    {
     "name": "stderr",
     "output_type": "stream",
     "text": [
      " 80%|████████  | 69/86 [38:45<06:32, 23.07s/it]"
     ]
    },
    {
     "name": "stdout",
     "output_type": "stream",
     "text": [
      "working on # 70 of  86\n"
     ]
    },
    {
     "name": "stderr",
     "output_type": "stream",
     "text": [
      " 81%|████████▏ | 70/86 [39:10<06:20, 23.77s/it]"
     ]
    },
    {
     "name": "stdout",
     "output_type": "stream",
     "text": [
      "working on # 71 of  86\n"
     ]
    },
    {
     "name": "stderr",
     "output_type": "stream",
     "text": [
      " 83%|████████▎ | 71/86 [39:54<07:27, 29.83s/it]"
     ]
    },
    {
     "name": "stdout",
     "output_type": "stream",
     "text": [
      "working on # 72 of  86\n"
     ]
    },
    {
     "name": "stderr",
     "output_type": "stream",
     "text": [
      " 84%|████████▎ | 72/86 [40:23<06:55, 29.65s/it]"
     ]
    },
    {
     "name": "stdout",
     "output_type": "stream",
     "text": [
      "working on # 73 of  86\n"
     ]
    },
    {
     "name": "stderr",
     "output_type": "stream",
     "text": [
      " 85%|████████▍ | 73/86 [40:42<05:42, 26.36s/it]"
     ]
    },
    {
     "name": "stdout",
     "output_type": "stream",
     "text": [
      "working on # 74 of  86\n"
     ]
    },
    {
     "name": "stderr",
     "output_type": "stream",
     "text": [
      " 86%|████████▌ | 74/86 [40:58<04:37, 23.14s/it]"
     ]
    },
    {
     "name": "stdout",
     "output_type": "stream",
     "text": [
      "working on # 75 of  86\n"
     ]
    },
    {
     "name": "stderr",
     "output_type": "stream",
     "text": [
      " 87%|████████▋ | 75/86 [41:15<03:54, 21.32s/it]"
     ]
    },
    {
     "name": "stdout",
     "output_type": "stream",
     "text": [
      "working on # 76 of  86\n"
     ]
    },
    {
     "name": "stderr",
     "output_type": "stream",
     "text": [
      " 88%|████████▊ | 76/86 [41:42<03:52, 23.21s/it]"
     ]
    },
    {
     "name": "stdout",
     "output_type": "stream",
     "text": [
      "working on # 77 of  86\n"
     ]
    },
    {
     "name": "stderr",
     "output_type": "stream",
     "text": [
      " 90%|████████▉ | 77/86 [41:58<03:08, 20.92s/it]"
     ]
    },
    {
     "name": "stdout",
     "output_type": "stream",
     "text": [
      "working on # 78 of  86\n"
     ]
    },
    {
     "name": "stderr",
     "output_type": "stream",
     "text": [
      " 91%|█████████ | 78/86 [42:15<02:37, 19.69s/it]"
     ]
    },
    {
     "name": "stdout",
     "output_type": "stream",
     "text": [
      "working on # 79 of  86\n"
     ]
    },
    {
     "name": "stderr",
     "output_type": "stream",
     "text": [
      " 92%|█████████▏| 79/86 [42:41<02:31, 21.59s/it]"
     ]
    },
    {
     "name": "stdout",
     "output_type": "stream",
     "text": [
      "working on # 80 of  86\n"
     ]
    },
    {
     "name": "stderr",
     "output_type": "stream",
     "text": [
      " 93%|█████████▎| 80/86 [42:56<01:58, 19.76s/it]"
     ]
    },
    {
     "name": "stdout",
     "output_type": "stream",
     "text": [
      "working on # 81 of  86\n"
     ]
    },
    {
     "name": "stderr",
     "output_type": "stream",
     "text": [
      " 94%|█████████▍| 81/86 [43:12<01:32, 18.45s/it]"
     ]
    },
    {
     "name": "stdout",
     "output_type": "stream",
     "text": [
      "working on # 82 of  86\n"
     ]
    },
    {
     "name": "stderr",
     "output_type": "stream",
     "text": [
      " 95%|█████████▌| 82/86 [43:25<01:07, 16.83s/it]"
     ]
    },
    {
     "name": "stdout",
     "output_type": "stream",
     "text": [
      "working on # 83 of  86\n"
     ]
    },
    {
     "name": "stderr",
     "output_type": "stream",
     "text": [
      " 97%|█████████▋| 83/86 [43:38<00:47, 15.90s/it]"
     ]
    },
    {
     "name": "stdout",
     "output_type": "stream",
     "text": [
      "working on # 84 of  86\n"
     ]
    },
    {
     "name": "stderr",
     "output_type": "stream",
     "text": [
      " 98%|█████████▊| 84/86 [43:52<00:30, 15.17s/it]"
     ]
    },
    {
     "name": "stdout",
     "output_type": "stream",
     "text": [
      "working on # 85 of  86\n"
     ]
    },
    {
     "name": "stderr",
     "output_type": "stream",
     "text": [
      " 99%|█████████▉| 85/86 [44:06<00:14, 14.83s/it]"
     ]
    },
    {
     "name": "stdout",
     "output_type": "stream",
     "text": [
      "working on # 86 of  86\n"
     ]
    },
    {
     "name": "stderr",
     "output_type": "stream",
     "text": [
      "100%|██████████| 86/86 [44:20<00:00, 30.94s/it]\n"
     ]
    }
   ],
   "source": [
    "p = .9\n",
    "N = 100\n",
    "#Let's calculate these according to half mass radius instead\n",
    "\n",
    "save_name = '/home/tnguser/postprocessing/uncertainties/angles/'\n",
    "\n",
    "for subfindID in tqdm(final_diskyIDs):\n",
    "\n",
    "    ### CODE IN COMMENTS ADAPTED FROM NEIL'S \"measure_halo_spin.py\", 75-99 non-tilted 3kpc ----------------------------------------------\n",
    "    ### ----------------------------------------------------------------------------------------------------------\n",
    "    GrNr = (il.groupcat.loadSingle(basePath, 99, subhaloID=subfindID)['SubhaloGrNr'])\n",
    "\n",
    "    snapArr,zArr = snapshot_redshift_corr(basePath)\n",
    "\n",
    "    haloTree = il.lhalotree.loadTree(basePath,99,subfindID,\n",
    "                         fields=['SubhaloGrNr','SnapNum','Group_R_Crit200','SubhaloPos','SubhaloNumber','SubhaloHalfmassRadType'], \n",
    "                         onlyMPB=True)\n",
    "\n",
    "    haloInd,mpb_snapArr = haloTree['SubhaloGrNr'], haloTree['SnapNum']\n",
    "    subfindID = haloTree['SubhaloNumber']\n",
    "    Rvirial   = haloTree['Group_R_Crit200']\n",
    "    subhaloPos = haloTree['SubhaloPos']\n",
    "    halfmassrad = haloTree['SubhaloHalfmassRadType']\n",
    "    angles_mean = []\n",
    "    angles_std = []\n",
    "    for snap in (range(75,100)):\n",
    "\n",
    "        GrNr_i       = value(haloInd[snap == mpb_snapArr])\n",
    "        subfindID_i  = value(subfindID[snap == mpb_snapArr])\n",
    "        Rvirial_i    = value(Rvirial[snap == mpb_snapArr])\n",
    "        subhaloPos_i = value(subhaloPos[snap == mpb_snapArr])\n",
    "        a = 1/(1+value(zArr[snap==snapArr]))\n",
    "        halfmassrad_i = value(halfmassrad[snap == mpb_snapArr])[4]*a\n",
    "\n",
    "        starPos = il.snapshot.loadSubhalo(basePath,snap,subfindID_i,4,fields='Coordinates')\n",
    "        starVel = il.snapshot.loadSubhalo(basePath,snap,subfindID_i,4,fields='Velocities')\n",
    "        starMass = il.snapshot.loadSubhalo(basePath,snap,subfindID_i,4,fields='Masses') \n",
    "\n",
    "        # following Neil's method, but only using stars (not gas or DM)\n",
    "        if (type(starPos) is not dict):\n",
    "            particleCoords_bar  = starPos\n",
    "            particleVels_bar    = starVel\n",
    "            particleMass_bar    = starMass * 1e10\n",
    "        else:\n",
    "            # no stars in the halo\n",
    "            print(\"ERROR: no stars in halo.\")\n",
    "            particleCoords_bar  = np.array([[np.nan,np.nan,np.nan]])\n",
    "            particleVels_bar    = np.array([[np.nan,np.nan,np.nan]])\n",
    "            particleMass_bar    = np.array([np.nan])\n",
    "\n",
    "        ########################################################################\n",
    "        # check that the halo is not crossing the box boundary, correct if it is\n",
    "        # condition is whether it is within 2 virial radii\n",
    "        passUpperBound = subhaloPos_i + 2*Rvirial_i >= 35000\n",
    "        passLowerBound = subhaloPos_i - 2*Rvirial_i <= 0\n",
    "\n",
    "        if any(passUpperBound):\n",
    "            # shift the particles\n",
    "            particleCoords_bar[:,passUpperBound] = particleCoords_bar[:,passUpperBound] - 35000/2\n",
    "            subhaloPos_i[passUpperBound] = subhaloPos_i[passUpperBound] - 35000/2\n",
    "            #reinforce boundary condition\n",
    "            ind_bar = np.where(particleCoords_bar[:,passUpperBound]<0)[0]\n",
    "            particleCoords_bar[ind_bar,passUpperBound] = particleCoords_bar[ind_bar,passUpperBound] + 35000\n",
    "\n",
    "        if any(passLowerBound):\n",
    "            particleCoords_bar[:,passLowerBound] = particleCoords_bar[:,passLowerBound] + 35000/2 \n",
    "            subhaloPos_i[passLowerBound] = subhaloPos_i[passLowerBound] + 35000/2\n",
    "\n",
    "            ind_bar = np.where(particleCoords_bar[:,passLowerBound]>35000)[0]\n",
    "            particleCoords_bar[ind_bar,passLowerBound] = particleCoords_bar[ind_bar,passLowerBound] - 35000\n",
    "        ########################################################################\n",
    "\n",
    "        # center coords on subhalo pos\n",
    "        particleCoords_bar = (particleCoords_bar - subhaloPos_i)*a\n",
    "        # find relative velocities - shouldn't have done this, instead use the spin by TNG (includes DM)\n",
    "        paricleVels_bar = (particleVels_bar - np.mean(particleVels_bar,axis=0)) * np.sqrt(a) # km/s\n",
    "\n",
    "        ### end Neil's code  -----------------------------------------------------------------------------------------\n",
    "        ### ----------------------------------------------------------------------------------------------------------\n",
    "        angles = []\n",
    "        innerRad = 0\n",
    "        outerRad = halfmassrad_i\n",
    "        for i in (np.arange(N)):\n",
    "            #        print(\"Working on bootstrap \", i+1, \" of \", N)\n",
    "\n",
    "            r_bar = np.sqrt(np.sum(particleCoords_bar**2,axis=1))\n",
    "            indsInBounds = np.where((r_bar>innerRad)&(r_bar<=outerRad))[0]        \n",
    "\n",
    "            # Choosing p percent of samples with repetition\n",
    "            num_data = len(indsInBounds)\n",
    "            num_samples = int(p * num_data)\n",
    "            random_indices = (np.random.randint(0,num_data,size=num_samples))\n",
    "            bootstrap_inds = np.array(indsInBounds)[random_indices.astype(int)]\n",
    "\n",
    "            J_bar = np.sum(particleMass_bar[bootstrap_inds].reshape(-1,1)*np.cross(particleCoords_bar[bootstrap_inds],\n",
    "                                                                                    particleVels_bar[bootstrap_inds]),axis=0) \n",
    "            pattern_file = pattern_path + 'GrNr_%d_snap_%d_99_patternSpeeds.npy'%(GrNr,75)\n",
    "            principal_file = principal_path + 'GrNr_%d_snap_%d_99_principal_axes_full.npy'%(GrNr,75)\n",
    "\n",
    "            # Must have angular momentum, pattern speeds, and principal axes calculations\n",
    "            if exists(pattern_file) and exists(principal_file):\n",
    "                pattern_info = np.load(pattern_file, allow_pickle=True)\n",
    "                pattern_info = dict(enumerate(pattern_info.flatten(),1))[1]\n",
    "                principal_axes = np.load(principal_file,allow_pickle=True)\n",
    "            L_spin = make_unit(J_bar)\n",
    "\n",
    "            angle = np.degrees(np.arccos(np.abs(np.dot(principal_axes[snap-75][:,2], L_spin))))\n",
    "            if angle > 45:\n",
    "                angle = 90-angle\n",
    "            angles.append(angle)\n",
    "\n",
    "        angles_mean.append(np.mean(angles))\n",
    "        angles_std.append(np.std(angles))\n",
    "\n",
    "    temp = save_name+'GrNr_%d_snap_%d_99_torque_angle_std.npy'%(GrNr,75)\n",
    "    np.save(temp,angles_std,allow_pickle=True)\n",
    "    num_completed = (num_completed + 1)"
   ]
  }
 ],
 "metadata": {
  "kernelspec": {
   "display_name": "Python 3 (ipykernel)",
   "language": "python",
   "name": "python3"
  },
  "language_info": {
   "codemirror_mode": {
    "name": "ipython",
    "version": 3
   },
   "file_extension": ".py",
   "mimetype": "text/x-python",
   "name": "python",
   "nbconvert_exporter": "python",
   "pygments_lexer": "ipython3",
   "version": "3.11.4"
  }
 },
 "nbformat": 4,
 "nbformat_minor": 5
}
